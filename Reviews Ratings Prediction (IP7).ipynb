{
 "cells": [
  {
   "cell_type": "markdown",
   "metadata": {},
   "source": [
    "# RATINGS PREDICTION"
   ]
  },
  {
   "cell_type": "markdown",
   "metadata": {},
   "source": [
    "## Problem statement:\n",
    "The rise in E-commerce, has brought a significant rise in the importance of customer reviews. There are hundreds of review sites online and massive amounts of reviews for every product. Customers have changed their way of shopping and according to a recent survey, 70 percent of customers say that they use rating filters to filter out low rated items in their searches.\n",
    "The ability to successfully decide whether a review will be helpful to other customers and thus give the product more exposure is vital to companies that support these reviews, companies like Google, Amazon, flipkart and Yelp!. In the present system, the e-commerce platform will send a feedback mail to customers after the product is delivered. The customers can give ratings out of 5, also can write down some comments/reviews about the product that he/she has purchased. Using these reviews and ratings, e-commerce platform will rate the products, which helps other people to get the insights about the quality of the product. But many times, customers would not give any ratings or reviews. How to predict the review score that a customer could give? This is the problem in e-commerce business.\n",
    "\n",
    "There are two main methods to approach this problem. The first one is based on review text content analysis and uses the principles of natural language process (the NLP method). This method lacks the insights that can be drawn from the relationship between costumers and items. The second one is based on recommender systems, specifically on collaborative filtering, and focuses on the reviewer’s point of view. Use of the user’s similarity matrix and applying neighbors analysis are all part of this method. This method ignores any information from the review text content analysis.\n",
    "\n",
    "### Business Goal: \n",
    "> We have a client who has a website where people write different reviews for technical products. \n",
    "Now they are adding a new feature to their website i.e. The reviewer will have to add stars(rating) \n",
    "as well with the review. The rating is out 5 stars and it only has 5 options available 1 star, 2 stars, \n",
    "3 stars, 4 stars, 5 stars. Now they want to predict ratings for the reviews which were written in the \n",
    "past and they don’t have a rating. So, we have to build an application which can predict the rating \n",
    "by seeing the review.\n",
    "\n",
    "## Data Collection Phase:\n",
    "I have done web scraping to collect the data of customers review ratings from the well known website https://www.flipkart.com/ and https://www.amazon.com/. In this section I have scraped the reviews of different laptops, Phones, Headphones, smart \n",
    "watches, Professional Cameras, Printers, Monitors, Home theatre, Router from the above 2 mentioned e-commerce websites.\n",
    "\n",
    "## Model Building Phase:\n",
    "After collecting the data, we need to build a machine learning model. Before model building should do \n",
    "all data preprocessing steps involving NLP. Try different models with different hyper parameters \n",
    "and select the best model."
   ]
  },
  {
   "cell_type": "markdown",
   "metadata": {},
   "source": [
    "### Importing necessary libraries/dependencies"
   ]
  },
  {
   "cell_type": "code",
   "execution_count": 1,
   "metadata": {},
   "outputs": [],
   "source": [
    "# Importing necessary libraries\n",
    "import numpy as np\n",
    "import pandas as pd\n",
    "# Visualization\n",
    "import seaborn as sns\n",
    "import matplotlib.pyplot as plt\n",
    "import os\n",
    "import scipy as stats\n",
    "# Importing nltk libraries\n",
    "import nltk\n",
    "import re\n",
    "import string\n",
    "from nltk import FreqDist\n",
    "from nltk.corpus import wordnet\n",
    "from scipy.sparse import hstack\n",
    "from nltk.corpus import stopwords\n",
    "from nltk.tokenize import word_tokenize\n",
    "from wordcloud import WordCloud\n",
    "from nltk.stem.wordnet import WordNetLemmatizer\n",
    "from sklearn.feature_extraction.text import TfidfVectorizer\n",
    "# Evaluation Metrics\n",
    "from sklearn import metrics\n",
    "from sklearn.metrics import classification_report,confusion_matrix\n",
    "from sklearn.metrics import roc_curve,accuracy_score,roc_auc_score\n",
    "from sklearn.model_selection import train_test_split,GridSearchCV,cross_val_score\n",
    "# Defining different algorithms\n",
    "from sklearn.svm import LinearSVC\n",
    "from xgboost import XGBClassifier\n",
    "from sklearn.linear_model import SGDClassifier\n",
    "from sklearn.tree import DecisionTreeClassifier\n",
    "from sklearn.ensemble import RandomForestClassifier, ExtraTreesClassifier\n",
    "import warnings\n",
    "%matplotlib inline\n",
    "warnings.filterwarnings('ignore')"
   ]
  },
  {
   "cell_type": "markdown",
   "metadata": {},
   "source": [
    "## Importing collected dataset"
   ]
  },
  {
   "cell_type": "code",
   "execution_count": 2,
   "metadata": {},
   "outputs": [
    {
     "data": {
      "text/html": [
       "<div>\n",
       "<style scoped>\n",
       "    .dataframe tbody tr th:only-of-type {\n",
       "        vertical-align: middle;\n",
       "    }\n",
       "\n",
       "    .dataframe tbody tr th {\n",
       "        vertical-align: top;\n",
       "    }\n",
       "\n",
       "    .dataframe thead th {\n",
       "        text-align: right;\n",
       "    }\n",
       "</style>\n",
       "<table border=\"1\" class=\"dataframe\">\n",
       "  <thead>\n",
       "    <tr style=\"text-align: right;\">\n",
       "      <th></th>\n",
       "      <th>Review_title</th>\n",
       "      <th>Review_text</th>\n",
       "      <th>Ratings</th>\n",
       "    </tr>\n",
       "  </thead>\n",
       "  <tbody>\n",
       "    <tr>\n",
       "      <th>0</th>\n",
       "      <td>Not suitable for work</td>\n",
       "      <td>\\n  It took me one month to get my laptop work...</td>\n",
       "      <td>2.0 out of 5 stars</td>\n",
       "    </tr>\n",
       "    <tr>\n",
       "      <th>1</th>\n",
       "      <td>Not worth for what you pay</td>\n",
       "      <td>\\n  You can buy the same for better price dire...</td>\n",
       "      <td>2.0 out of 5 stars</td>\n",
       "    </tr>\n",
       "    <tr>\n",
       "      <th>2</th>\n",
       "      <td>Good Product</td>\n",
       "      <td>\\n  Overall Product... upgraded windows 11 and...</td>\n",
       "      <td>2.0 out of 5 stars</td>\n",
       "    </tr>\n",
       "    <tr>\n",
       "      <th>3</th>\n",
       "      <td>Not advised</td>\n",
       "      <td>\\n  Theres a scratch already in the screen and...</td>\n",
       "      <td>2.0 out of 5 stars</td>\n",
       "    </tr>\n",
       "    <tr>\n",
       "      <th>4</th>\n",
       "      <td>The laptop hangs, sometimes gets stuck and it ...</td>\n",
       "      <td>\\n  The laptop is slow sometimes get stuck and...</td>\n",
       "      <td>2.0 out of 5 stars</td>\n",
       "    </tr>\n",
       "    <tr>\n",
       "      <th>...</th>\n",
       "      <td>...</td>\n",
       "      <td>...</td>\n",
       "      <td>...</td>\n",
       "    </tr>\n",
       "    <tr>\n",
       "      <th>101123</th>\n",
       "      <td>Fair</td>\n",
       "      <td>Goods:\\nThe picture quality is good.\\nHeight a...</td>\n",
       "      <td>3</td>\n",
       "    </tr>\n",
       "    <tr>\n",
       "      <th>101124</th>\n",
       "      <td>Wonderful</td>\n",
       "      <td>Too much of back light bleeding.\\nWorth the mo...</td>\n",
       "      <td>4</td>\n",
       "    </tr>\n",
       "    <tr>\n",
       "      <th>101125</th>\n",
       "      <td>Design looks very good</td>\n",
       "      <td>Design looks very good. fixed stand so no adju...</td>\n",
       "      <td>5</td>\n",
       "    </tr>\n",
       "    <tr>\n",
       "      <th>101126</th>\n",
       "      <td>Brilliant</td>\n",
       "      <td>I love product. Very nice working.</td>\n",
       "      <td>5</td>\n",
       "    </tr>\n",
       "    <tr>\n",
       "      <th>101127</th>\n",
       "      <td>Simply awesome</td>\n",
       "      <td>Very good product</td>\n",
       "      <td>5</td>\n",
       "    </tr>\n",
       "  </tbody>\n",
       "</table>\n",
       "<p>101128 rows × 3 columns</p>\n",
       "</div>"
      ],
      "text/plain": [
       "                                             Review_title  \\\n",
       "0                                   Not suitable for work   \n",
       "1                              Not worth for what you pay   \n",
       "2                                            Good Product   \n",
       "3                                             Not advised   \n",
       "4       The laptop hangs, sometimes gets stuck and it ...   \n",
       "...                                                   ...   \n",
       "101123                                               Fair   \n",
       "101124                                          Wonderful   \n",
       "101125                             Design looks very good   \n",
       "101126                                          Brilliant   \n",
       "101127                                     Simply awesome   \n",
       "\n",
       "                                              Review_text             Ratings  \n",
       "0       \\n  It took me one month to get my laptop work...  2.0 out of 5 stars  \n",
       "1       \\n  You can buy the same for better price dire...  2.0 out of 5 stars  \n",
       "2       \\n  Overall Product... upgraded windows 11 and...  2.0 out of 5 stars  \n",
       "3       \\n  Theres a scratch already in the screen and...  2.0 out of 5 stars  \n",
       "4       \\n  The laptop is slow sometimes get stuck and...  2.0 out of 5 stars  \n",
       "...                                                   ...                 ...  \n",
       "101123  Goods:\\nThe picture quality is good.\\nHeight a...                   3  \n",
       "101124  Too much of back light bleeding.\\nWorth the mo...                   4  \n",
       "101125  Design looks very good. fixed stand so no adju...                   5  \n",
       "101126                 I love product. Very nice working.                   5  \n",
       "101127                                  Very good product                   5  \n",
       "\n",
       "[101128 rows x 3 columns]"
      ]
     },
     "execution_count": 2,
     "metadata": {},
     "output_type": "execute_result"
    }
   ],
   "source": [
    "# Reading the excel file\n",
    "df = pd.read_excel(\"Review_ratings.xlsx\")\n",
    "df"
   ]
  },
  {
   "cell_type": "markdown",
   "metadata": {},
   "source": [
    "Here I am importing the colleced dataset which is in comma separated values (csv) format and storing it into dataframe (df) for further usage. Here we can observe first 5 and last 5 rows of the dataset. There are 101128 rows and 3 columns in the dataframe. The dataset contains categorical data and contains both dependent and indepednent variables. We have our target variable <font color=blue>\"Ratings\"</font> which stores the ratings of the customers reviews and it is categorical in nature which has multiclasses that makes this problem to be a <font color=blue>\"Classification Problem\"</font>."
   ]
  },
  {
   "cell_type": "markdown",
   "metadata": {},
   "source": [
    "## Data description\n",
    "- Review_title : Title of the review\n",
    "- Review_text : Content of the review text\n",
    "- Ratings : Ratings out of 5 stars"
   ]
  },
  {
   "cell_type": "markdown",
   "metadata": {},
   "source": [
    "## Exploratory Data Analysis (EDA)"
   ]
  },
  {
   "cell_type": "code",
   "execution_count": 3,
   "metadata": {},
   "outputs": [
    {
     "name": "stdout",
     "output_type": "stream",
     "text": [
      "There are 101128 Rows and 3 Columns in dataframe\n"
     ]
    }
   ],
   "source": [
    "# Checking the dimensions of the dataset\n",
    "print(\"There are {} Rows and {} Columns in dataframe\".format(df.shape[0], df.shape[1]))"
   ]
  },
  {
   "cell_type": "markdown",
   "metadata": {},
   "source": [
    "The dataset contains 101128 rows and 3 columns."
   ]
  },
  {
   "cell_type": "code",
   "execution_count": 4,
   "metadata": {},
   "outputs": [
    {
     "name": "stdout",
     "output_type": "stream",
     "text": [
      "Columns present in dataset:\n",
      " Index(['Review_title', 'Review_text', 'Ratings'], dtype='object')\n"
     ]
    }
   ],
   "source": [
    "# Checking the column names present in the dataset\n",
    "print(\"Columns present in dataset:\\n\", df.columns)"
   ]
  },
  {
   "cell_type": "markdown",
   "metadata": {},
   "source": [
    "These are the columns present in the dataset."
   ]
  },
  {
   "cell_type": "code",
   "execution_count": 5,
   "metadata": {},
   "outputs": [
    {
     "name": "stdout",
     "output_type": "stream",
     "text": [
      "<class 'pandas.core.frame.DataFrame'>\n",
      "RangeIndex: 101128 entries, 0 to 101127\n",
      "Data columns (total 3 columns):\n",
      " #   Column        Non-Null Count  Dtype \n",
      "---  ------        --------------  ----- \n",
      " 0   Review_title  88827 non-null  object\n",
      " 1   Review_text   89171 non-null  object\n",
      " 2   Ratings       88829 non-null  object\n",
      "dtypes: object(3)\n",
      "memory usage: 2.3+ MB\n"
     ]
    }
   ],
   "source": [
    "# To get good overview of the dataset\n",
    "df.info()"
   ]
  },
  {
   "cell_type": "markdown",
   "metadata": {},
   "source": [
    "### Checking null values"
   ]
  },
  {
   "cell_type": "code",
   "execution_count": 6,
   "metadata": {},
   "outputs": [
    {
     "data": {
      "text/html": [
       "<div>\n",
       "<style scoped>\n",
       "    .dataframe tbody tr th:only-of-type {\n",
       "        vertical-align: middle;\n",
       "    }\n",
       "\n",
       "    .dataframe tbody tr th {\n",
       "        vertical-align: top;\n",
       "    }\n",
       "\n",
       "    .dataframe thead th {\n",
       "        text-align: right;\n",
       "    }\n",
       "</style>\n",
       "<table border=\"1\" class=\"dataframe\">\n",
       "  <thead>\n",
       "    <tr style=\"text-align: right;\">\n",
       "      <th></th>\n",
       "      <th>Count of Null Values</th>\n",
       "      <th>% of Null Values</th>\n",
       "    </tr>\n",
       "  </thead>\n",
       "  <tbody>\n",
       "    <tr>\n",
       "      <th>Review_title</th>\n",
       "      <td>12301</td>\n",
       "      <td>12.163792</td>\n",
       "    </tr>\n",
       "    <tr>\n",
       "      <th>Review_text</th>\n",
       "      <td>11957</td>\n",
       "      <td>11.823629</td>\n",
       "    </tr>\n",
       "    <tr>\n",
       "      <th>Ratings</th>\n",
       "      <td>12299</td>\n",
       "      <td>12.161815</td>\n",
       "    </tr>\n",
       "  </tbody>\n",
       "</table>\n",
       "</div>"
      ],
      "text/plain": [
       "              Count of Null Values  % of Null Values\n",
       "Review_title                 12301         12.163792\n",
       "Review_text                  11957         11.823629\n",
       "Ratings                      12299         12.161815"
      ]
     },
     "execution_count": 6,
     "metadata": {},
     "output_type": "execute_result"
    }
   ],
   "source": [
    "# Displaying the columns containing null values count and their % i.e. ((count of null)/101128)/100\n",
    "\n",
    "null = pd.DataFrame(df[df.columns[df.isnull().any()]].isnull().sum())\n",
    "null.columns=['Count of Null Values']\n",
    "null['% of Null Values']=null['Count of Null Values']/1011.28     # 101128/100 = 1011.28\n",
    "null"
   ]
  },
  {
   "cell_type": "markdown",
   "metadata": {},
   "source": [
    "From the above observation we can notice there are missing values present in all the 3 columns also we can observe the percentage of the missing values in each column. We will use imputation methods to fill up these missing values."
   ]
  },
  {
   "cell_type": "code",
   "execution_count": 7,
   "metadata": {},
   "outputs": [
    {
     "data": {
      "image/png": "[encoded data removed]",
      "text/plain": [
       "<Figure size 432x288 with 2 Axes>"
      ]
     },
     "metadata": {
      "needs_background": "light"
     },
     "output_type": "display_data"
    }
   ],
   "source": [
    "# Let's visualize the null values clearly in dataset using heat map\n",
    "sns.heatmap(df.isnull(), cmap=\"plasma\")\n",
    "plt.show()"
   ]
  },
  {
   "cell_type": "markdown",
   "metadata": {},
   "source": [
    "From the above heat map we can notice the white line which shows the missing values in the dataset."
   ]
  },
  {
   "cell_type": "markdown",
   "metadata": {},
   "source": [
    "### Treating null values using imputation techniques\n",
    "Instead of removing the rows having NAN values we can fill them using imputation methods like mean, mode and median. \n",
    "Since all the 3 columns are having categorical data, let's fill the null values using mode values. "
   ]
  },
  {
   "cell_type": "code",
   "execution_count": 8,
   "metadata": {},
   "outputs": [
    {
     "name": "stdout",
     "output_type": "stream",
     "text": [
      "mode of Review_title is: 0    Wonderful\n",
      "dtype: object\n",
      "mode of Review_text is: 0    Good\n",
      "dtype: object\n",
      "mode of Ratings is: 0    5\n",
      "dtype: object\n"
     ]
    }
   ],
   "source": [
    "# let's check the mode of the columns\n",
    "print(\"mode of Review_title is:\", df[\"Review_title\"].mode())  # we will fill the null values using its mode\n",
    "print(\"mode of Review_text is:\", df[\"Review_text\"].mode())\n",
    "print(\"mode of Ratings is:\", df[\"Ratings\"].mode())"
   ]
  },
  {
   "cell_type": "code",
   "execution_count": 9,
   "metadata": {},
   "outputs": [],
   "source": [
    "# Filling null values of object data column with their mode values (most frequently occurred values).\n",
    "\n",
    "col1=df.columns.values\n",
    "for i in range(0,len(col1)):\n",
    "    if df[col1[i]].dtype == \"object\":\n",
    "        df[col1[i]].fillna(df[col1[i]].mode()[0], inplace=True)"
   ]
  },
  {
   "cell_type": "code",
   "execution_count": 10,
   "metadata": {},
   "outputs": [
    {
     "data": {
      "text/plain": [
       "Review_title    0\n",
       "Review_text     0\n",
       "Ratings         0\n",
       "dtype: int64"
      ]
     },
     "execution_count": 10,
     "metadata": {},
     "output_type": "execute_result"
    }
   ],
   "source": [
    "# Lets check the null values again\n",
    "df.isnull().sum()"
   ]
  },
  {
   "cell_type": "markdown",
   "metadata": {},
   "source": [
    "We are successfully filled the null values using mode method and there are no any missing values in the dataset."
   ]
  },
  {
   "cell_type": "code",
   "execution_count": 11,
   "metadata": {},
   "outputs": [
    {
     "data": {
      "image/png": "[encoded data removed]",
      "text/plain": [
       "<Figure size 432x288 with 2 Axes>"
      ]
     },
     "metadata": {
      "needs_background": "light"
     },
     "output_type": "display_data"
    }
   ],
   "source": [
    "# Let's visualize the null values clearly in dataset using heat map\n",
    "sns.heatmap(df.isnull(), cmap=\"plasma\")\n",
    "plt.show()"
   ]
  },
  {
   "cell_type": "markdown",
   "metadata": {},
   "source": [
    "From the heat map we can clearly see that there are no missing values in the dataset."
   ]
  },
  {
   "cell_type": "code",
   "execution_count": 12,
   "metadata": {},
   "outputs": [
    {
     "data": {
      "text/html": [
       "<div>\n",
       "<style scoped>\n",
       "    .dataframe tbody tr th:only-of-type {\n",
       "        vertical-align: middle;\n",
       "    }\n",
       "\n",
       "    .dataframe tbody tr th {\n",
       "        vertical-align: top;\n",
       "    }\n",
       "\n",
       "    .dataframe thead th {\n",
       "        text-align: right;\n",
       "    }\n",
       "</style>\n",
       "<table border=\"1\" class=\"dataframe\">\n",
       "  <thead>\n",
       "    <tr style=\"text-align: right;\">\n",
       "      <th></th>\n",
       "      <th>No of Unique Values</th>\n",
       "    </tr>\n",
       "  </thead>\n",
       "  <tbody>\n",
       "    <tr>\n",
       "      <th>Review_title</th>\n",
       "      <td>37854</td>\n",
       "    </tr>\n",
       "    <tr>\n",
       "      <th>Review_text</th>\n",
       "      <td>57993</td>\n",
       "    </tr>\n",
       "    <tr>\n",
       "      <th>Ratings</th>\n",
       "      <td>10</td>\n",
       "    </tr>\n",
       "  </tbody>\n",
       "</table>\n",
       "</div>"
      ],
      "text/plain": [
       "              No of Unique Values\n",
       "Review_title                37854\n",
       "Review_text                 57993\n",
       "Ratings                        10"
      ]
     },
     "execution_count": 12,
     "metadata": {},
     "output_type": "execute_result"
    }
   ],
   "source": [
    "# Checking number of unique values in each column of dataset\n",
    "df.nunique().to_frame(\"No of Unique Values\")"
   ]
  },
  {
   "cell_type": "markdown",
   "metadata": {},
   "source": [
    "Above are the number of unique values present in the columns of the dataset.\n",
    "### Value Count Function"
   ]
  },
  {
   "cell_type": "code",
   "execution_count": 13,
   "metadata": {},
   "outputs": [
    {
     "name": "stdout",
     "output_type": "stream",
     "text": [
      "Value Counts of Review_title :\n",
      "Wonderful                             13792\n",
      "Good                                   1276\n",
      "Excellent                              1105\n",
      "Great product                          1081\n",
      "Fabulous!                              1072\n",
      "                                      ...  \n",
      "Screen Fluctuation Issue                  1\n",
      "Catridge problem                          1\n",
      "Best at affordable (pros and cons)        1\n",
      "Perfect one for personal usage.           1\n",
      "Amazing great product✌                    1\n",
      "Name: Review_title, Length: 37854, dtype: int64\n",
      "****************************************************************************************************\n",
      "Value Counts of Review_text :\n",
      "Good                                                                                                                                                                                                                                                                                                                                                                                                                                                                                                                                                                                                                                                                                     12726\n",
      "\\n  Good\\n                                                                                                                                                                                                                                                                                                                                                                                                                                                                                                                                                                                                                                                                                 420\n",
      "Nice                                                                                                                                                                                                                                                                                                                                                                                                                                                                                                                                                                                                                                                                                       402\n",
      "Nice product                                                                                                                                                                                                                                                                                                                                                                                                                                                                                                                                                                                                                                                                               258\n",
      "Good product                                                                                                                                                                                                                                                                                                                                                                                                                                                                                                                                                                                                                                                                               254\n",
      "                                                                                                                                                                                                                                                                                                                                                                                                                                                                                                                                                                                                                                                                                         ...  \n",
      "\\n  A little disappointed since I was hoping for a huge area coverage with 4 antennas but it's similar to 3 antenna one I previously had.<br><br>Also no button for so called WPS\\n                                                                                                                                                                                                                                                                                                                                                                                                                                                                                                          1\n",
      "\\n  Worked only for 4 months.<br>Than BAM- no more net.<br><br>Planned to return it- but in the scheme of things din't actually get the time to do so! So expended the warranty and it is now utterly useless.\\n                                                                                                                                                                                                                                                                                                                                                                                                                                                                             1\n",
      "\\n  I was looking for an economical monitor to connect my work computer to work from home . This monitor fits my requirements very well . I paid 9.5k which seems to be more than what other reviewers have paid ... but it serves its purpose well .. the item was received promptly . The monitor works out of the box with my Windows 7 enterprise , Windows 10 and MacBook Pro 2019 laptops and I did not need to install the monitor drivers .\\n                                                                                                                                                                                                                                        1\n",
      "\\n  You need to go inside the menu and select the heart rate/spo2 monitoring option to read the heart rate every time. Real time heart monitoring option is joke to fool you. The band expect you to be motionless as a rock even when you are working out to calibrate heartbeat or spo2 and thus cannot be used while  exercising. I don't know how these pathetic products are designed. They are smart enough to disable the return option and gave a replace option instead. So I've to stick with this useless product. OnePlus as a brand lost it's value by selling this meaningless and pathetic thing. Good by OnePlus. I'm never going to buy any of your product again.\\n        1\n",
      "\\n  First i receive the product and it was defective i think so and Amazon given me replacement for the product and after replacement product is working fine i really trust only @amazon for online shopping the product is now working good and fine\\n                                                                                                                                                                                                                                                                                                                                                                                                                                     1\n",
      "Name: Review_text, Length: 57993, dtype: int64\n",
      "****************************************************************************************************\n",
      "Value Counts of Ratings :\n",
      "5                     30255\n",
      "5.0 out of 5 stars    14132\n",
      "1.0 out of 5 stars    13021\n",
      "4.0 out of 5 stars    12617\n",
      "3.0 out of 5 stars    10894\n",
      "2.0 out of 5 stars     9734\n",
      "4                      5896\n",
      "1                      2038\n",
      "3                      1834\n",
      "2                       707\n",
      "Name: Ratings, dtype: int64\n",
      "****************************************************************************************************\n"
     ]
    }
   ],
   "source": [
    "# Check value counts for each feature\n",
    "\n",
    "cols=['Review_title', 'Review_text', 'Ratings']\n",
    "for col in cols:\n",
    "    print(\"Value Counts of {} :\".format(col, df[col].nunique()))\n",
    "    print(df[f'{col}'].value_counts())\n",
    "    print('*'*100)"
   ]
  },
  {
   "cell_type": "markdown",
   "metadata": {},
   "source": [
    "These are the value counts of the columns present in the dataset.\n",
    "\n",
    "From the values count function we can notice that the target variable `\"Ratings\"` containing some duplicate string values like \"star\" which we need to replace them."
   ]
  },
  {
   "cell_type": "code",
   "execution_count": 14,
   "metadata": {},
   "outputs": [
    {
     "data": {
      "text/plain": [
       "array(['2.0 out of 5 stars', '3.0 out of 5 stars', '1.0 out of 5 stars',\n",
       "       5, '5.0 out of 5 stars', '4.0 out of 5 stars', 1, 4, 2, 3],\n",
       "      dtype=object)"
      ]
     },
     "execution_count": 14,
     "metadata": {},
     "output_type": "execute_result"
    }
   ],
   "source": [
    "# Let's look at the unique values in the target column\n",
    "df['Ratings'].unique()"
   ]
  },
  {
   "cell_type": "code",
   "execution_count": 15,
   "metadata": {},
   "outputs": [],
   "source": [
    "# Replacing duplicated values in the label and converting the data to integer datatype\n",
    "df['Ratings'] = df['Ratings'].replace('1.0 out of 5 stars',1)\n",
    "df['Ratings'] = df['Ratings'].replace('2.0 out of 5 stars',2)\n",
    "df['Ratings'] = df['Ratings'].replace('3.0 out of 5 stars',3)\n",
    "df['Ratings'] = df['Ratings'].replace('4.0 out of 5 stars',4)\n",
    "df['Ratings'] = df['Ratings'].replace('5.0 out of 5 stars',5)\n",
    "df['Ratings'] = df['Ratings'].astype('int')"
   ]
  },
  {
   "cell_type": "code",
   "execution_count": 16,
   "metadata": {},
   "outputs": [
    {
     "data": {
      "text/plain": [
       "5    44387\n",
       "4    18513\n",
       "1    15059\n",
       "3    12728\n",
       "2    10441\n",
       "Name: Ratings, dtype: int64"
      ]
     },
     "execution_count": 16,
     "metadata": {},
     "output_type": "execute_result"
    }
   ],
   "source": [
    "# Checking value counts after replacing the values\n",
    "df.Ratings.value_counts()"
   ]
  },
  {
   "cell_type": "code",
   "execution_count": 17,
   "metadata": {},
   "outputs": [
    {
     "data": {
      "text/plain": [
       "array([2, 3, 1, 5, 4])"
      ]
     },
     "execution_count": 17,
     "metadata": {},
     "output_type": "execute_result"
    }
   ],
   "source": [
    "# Unique values after replacing the values\n",
    "df.Ratings.unique()"
   ]
  },
  {
   "cell_type": "markdown",
   "metadata": {},
   "source": [
    "I have replaced all the duplicate categories present in the target column and converted the data into integer data type. Now let's combine both reviews title and text into one column as `\"Reviews\"`."
   ]
  },
  {
   "cell_type": "code",
   "execution_count": 18,
   "metadata": {},
   "outputs": [],
   "source": [
    "# Combining Review text and Review_title into one\n",
    "df['Review'] = df['Review_title'].map(str)+' '+df['Review_text']"
   ]
  },
  {
   "cell_type": "code",
   "execution_count": 19,
   "metadata": {},
   "outputs": [
    {
     "data": {
      "text/html": [
       "<div>\n",
       "<style scoped>\n",
       "    .dataframe tbody tr th:only-of-type {\n",
       "        vertical-align: middle;\n",
       "    }\n",
       "\n",
       "    .dataframe tbody tr th {\n",
       "        vertical-align: top;\n",
       "    }\n",
       "\n",
       "    .dataframe thead th {\n",
       "        text-align: right;\n",
       "    }\n",
       "</style>\n",
       "<table border=\"1\" class=\"dataframe\">\n",
       "  <thead>\n",
       "    <tr style=\"text-align: right;\">\n",
       "      <th></th>\n",
       "      <th>Review_title</th>\n",
       "      <th>Review_text</th>\n",
       "      <th>Ratings</th>\n",
       "      <th>Review</th>\n",
       "    </tr>\n",
       "  </thead>\n",
       "  <tbody>\n",
       "    <tr>\n",
       "      <th>0</th>\n",
       "      <td>Not suitable for work</td>\n",
       "      <td>\\n  It took me one month to get my laptop work...</td>\n",
       "      <td>2</td>\n",
       "      <td>Not suitable for work \\n  It took me one month...</td>\n",
       "    </tr>\n",
       "    <tr>\n",
       "      <th>1</th>\n",
       "      <td>Not worth for what you pay</td>\n",
       "      <td>\\n  You can buy the same for better price dire...</td>\n",
       "      <td>2</td>\n",
       "      <td>Not worth for what you pay \\n  You can buy the...</td>\n",
       "    </tr>\n",
       "    <tr>\n",
       "      <th>2</th>\n",
       "      <td>Good Product</td>\n",
       "      <td>\\n  Overall Product... upgraded windows 11 and...</td>\n",
       "      <td>2</td>\n",
       "      <td>Good Product \\n  Overall Product... upgraded w...</td>\n",
       "    </tr>\n",
       "    <tr>\n",
       "      <th>3</th>\n",
       "      <td>Not advised</td>\n",
       "      <td>\\n  Theres a scratch already in the screen and...</td>\n",
       "      <td>2</td>\n",
       "      <td>Not advised \\n  Theres a scratch already in th...</td>\n",
       "    </tr>\n",
       "    <tr>\n",
       "      <th>4</th>\n",
       "      <td>The laptop hangs, sometimes gets stuck and it ...</td>\n",
       "      <td>\\n  The laptop is slow sometimes get stuck and...</td>\n",
       "      <td>2</td>\n",
       "      <td>The laptop hangs, sometimes gets stuck and it ...</td>\n",
       "    </tr>\n",
       "    <tr>\n",
       "      <th>...</th>\n",
       "      <td>...</td>\n",
       "      <td>...</td>\n",
       "      <td>...</td>\n",
       "      <td>...</td>\n",
       "    </tr>\n",
       "    <tr>\n",
       "      <th>101123</th>\n",
       "      <td>Fair</td>\n",
       "      <td>Goods:\\nThe picture quality is good.\\nHeight a...</td>\n",
       "      <td>3</td>\n",
       "      <td>Fair Goods:\\nThe picture quality is good.\\nHei...</td>\n",
       "    </tr>\n",
       "    <tr>\n",
       "      <th>101124</th>\n",
       "      <td>Wonderful</td>\n",
       "      <td>Too much of back light bleeding.\\nWorth the mo...</td>\n",
       "      <td>4</td>\n",
       "      <td>Wonderful Too much of back light bleeding.\\nWo...</td>\n",
       "    </tr>\n",
       "    <tr>\n",
       "      <th>101125</th>\n",
       "      <td>Design looks very good</td>\n",
       "      <td>Design looks very good. fixed stand so no adju...</td>\n",
       "      <td>5</td>\n",
       "      <td>Design looks very good Design looks very good....</td>\n",
       "    </tr>\n",
       "    <tr>\n",
       "      <th>101126</th>\n",
       "      <td>Brilliant</td>\n",
       "      <td>I love product. Very nice working.</td>\n",
       "      <td>5</td>\n",
       "      <td>Brilliant I love product. Very nice working.</td>\n",
       "    </tr>\n",
       "    <tr>\n",
       "      <th>101127</th>\n",
       "      <td>Simply awesome</td>\n",
       "      <td>Very good product</td>\n",
       "      <td>5</td>\n",
       "      <td>Simply awesome Very good product</td>\n",
       "    </tr>\n",
       "  </tbody>\n",
       "</table>\n",
       "<p>101128 rows × 4 columns</p>\n",
       "</div>"
      ],
      "text/plain": [
       "                                             Review_title  \\\n",
       "0                                   Not suitable for work   \n",
       "1                              Not worth for what you pay   \n",
       "2                                            Good Product   \n",
       "3                                             Not advised   \n",
       "4       The laptop hangs, sometimes gets stuck and it ...   \n",
       "...                                                   ...   \n",
       "101123                                               Fair   \n",
       "101124                                          Wonderful   \n",
       "101125                             Design looks very good   \n",
       "101126                                          Brilliant   \n",
       "101127                                     Simply awesome   \n",
       "\n",
       "                                              Review_text  Ratings  \\\n",
       "0       \\n  It took me one month to get my laptop work...        2   \n",
       "1       \\n  You can buy the same for better price dire...        2   \n",
       "2       \\n  Overall Product... upgraded windows 11 and...        2   \n",
       "3       \\n  Theres a scratch already in the screen and...        2   \n",
       "4       \\n  The laptop is slow sometimes get stuck and...        2   \n",
       "...                                                   ...      ...   \n",
       "101123  Goods:\\nThe picture quality is good.\\nHeight a...        3   \n",
       "101124  Too much of back light bleeding.\\nWorth the mo...        4   \n",
       "101125  Design looks very good. fixed stand so no adju...        5   \n",
       "101126                 I love product. Very nice working.        5   \n",
       "101127                                  Very good product        5   \n",
       "\n",
       "                                                   Review  \n",
       "0       Not suitable for work \\n  It took me one month...  \n",
       "1       Not worth for what you pay \\n  You can buy the...  \n",
       "2       Good Product \\n  Overall Product... upgraded w...  \n",
       "3       Not advised \\n  Theres a scratch already in th...  \n",
       "4       The laptop hangs, sometimes gets stuck and it ...  \n",
       "...                                                   ...  \n",
       "101123  Fair Goods:\\nThe picture quality is good.\\nHei...  \n",
       "101124  Wonderful Too much of back light bleeding.\\nWo...  \n",
       "101125  Design looks very good Design looks very good....  \n",
       "101126       Brilliant I love product. Very nice working.  \n",
       "101127                   Simply awesome Very good product  \n",
       "\n",
       "[101128 rows x 4 columns]"
      ]
     },
     "execution_count": 19,
     "metadata": {},
     "output_type": "execute_result"
    }
   ],
   "source": [
    "# Displaying the dataset again\n",
    "df"
   ]
  },
  {
   "cell_type": "code",
   "execution_count": 20,
   "metadata": {},
   "outputs": [
    {
     "data": {
      "text/plain": [
       "Wonderful Good                                                                                                                                                                                                                                                                                                                                                                                                                                                                                                                                                                                                                                                                                             11718\n",
       "Good \\n  Good\\n                                                                                                                                                                                                                                                                                                                                                                                                                                                                                                                                                                                                                                                                                              254\n",
       "Ok \\n  Ok\\n                                                                                                                                                                                                                                                                                                                                                                                                                                                                                                                                                                                                                                                                                                   79\n",
       "Nice \\n  Nice\\n                                                                                                                                                                                                                                                                                                                                                                                                                                                                                                                                                                                                                                                                                               49\n",
       "Awesome Good                                                                                                                                                                                                                                                                                                                                                                                                                                                                                                                                                                                                                                                                                                  42\n",
       "                                                                                                                                                                                                                                                                                                                                                                                                                                                                                                                                                                                                                                                                                                           ...  \n",
       "Don't Waste your money for this Printer \\n  I have write this review after 12 days using the printer. My suggestion is don't purchase this model printer. It was consuming more ink.Like one cartige cost around Rs-600/- only 60 to 70 pages black &amp; White print can done. If your looking for any business purposes it wasn't not suitable. So for business go for other models.  PRINT QUALITY IS SUPER but not ink iffecient as per the specifications mentioned.\\n                                                                                                                                                                                                                                    1\n",
       "Everything is the best at this price range!!!!! \\n  Everything is just perfect... The bass, the sound clarity.. the connectivity.<br>It is super lightweight.<br>The battery backup is out of this world.<br>ie: the playback time of nonstop music is more than 30 hrs easily on medium volume<br><br>Standby time is literally for months.. you can charge it and leave it for like 4-5 months and it would still have substantial amount of charge left in it...<br><br>The only thing taht bugs me is it starts prompting battry low at 30 percent battery and keeps on repeating after every 2-3 mins.<br><br>Which is a bit irritating..<br><br>Other than that.. this is an amazing investment\\n        1\n",
       "Services are excellent sir \\n  It is very difficult to install this instruments and the BSNL are requre only modern instead of rauter . I will another order will place after doing the needful please sir .\\n                                                                                                                                                                                                                                                                                                                                                                                                                                                                                                 1\n",
       "Perfect product! Satisfied with the 38mm version very stunning look great performance\\nOnly disappointment is no detailed sleep tracking like other smart watches\\nBest to buy in sale                                                                                                                                                                                                                                                                                                                                                                                                                                                                                                                         1\n",
       "No Good \\n  &nbsp;I' don't like\\n                                                                                                                                                                                                                                                                                                                                                                                                                                                                                                                                                                                                                                                                              1\n",
       "Name: Review, Length: 60366, dtype: int64"
      ]
     },
     "execution_count": 20,
     "metadata": {},
     "output_type": "execute_result"
    }
   ],
   "source": [
    "# Let's have a look at value count function of Review\n",
    "df.Review.value_counts()"
   ]
  },
  {
   "cell_type": "markdown",
   "metadata": {},
   "source": [
    "Let's remove Review_title and Review_text columns as we have got new <font color=red>\"Review\"</font> column which contains the combined texts of these two columns. "
   ]
  },
  {
   "cell_type": "code",
   "execution_count": 21,
   "metadata": {},
   "outputs": [],
   "source": [
    "# Dropping Review_title and Review_text column as we have got new Review column \n",
    "df.drop(columns=[\"Review_title\",\"Review_text\"],axis=1,inplace=True)"
   ]
  },
  {
   "cell_type": "markdown",
   "metadata": {},
   "source": [
    "## Text Preprocessing\n",
    "Using the text preprocessing techniques we can remove noise from raw data and makes raw data more valuable for building models. Pre-processing involves the following steps, but these will be performed in a slightly different manner:\n",
    "\n",
    "- Text case conversion\n",
    "- Removing Punctuations and other special characters\n",
    "- Splitting the comments into individual words\n",
    "- Removing Stop Words\n",
    "- Stemming and Lemmatization\n",
    "- Text Standardization-Normalization\n",
    "- Splitting dataset into Training and Testing"
   ]
  },
  {
   "cell_type": "code",
   "execution_count": 22,
   "metadata": {},
   "outputs": [
    {
     "data": {
      "text/html": [
       "<div>\n",
       "<style scoped>\n",
       "    .dataframe tbody tr th:only-of-type {\n",
       "        vertical-align: middle;\n",
       "    }\n",
       "\n",
       "    .dataframe tbody tr th {\n",
       "        vertical-align: top;\n",
       "    }\n",
       "\n",
       "    .dataframe thead th {\n",
       "        text-align: right;\n",
       "    }\n",
       "</style>\n",
       "<table border=\"1\" class=\"dataframe\">\n",
       "  <thead>\n",
       "    <tr style=\"text-align: right;\">\n",
       "      <th></th>\n",
       "      <th>Ratings</th>\n",
       "      <th>Review</th>\n",
       "      <th>original_length</th>\n",
       "    </tr>\n",
       "  </thead>\n",
       "  <tbody>\n",
       "    <tr>\n",
       "      <th>0</th>\n",
       "      <td>2</td>\n",
       "      <td>Not suitable for work \\n  It took me one month...</td>\n",
       "      <td>410</td>\n",
       "    </tr>\n",
       "    <tr>\n",
       "      <th>1</th>\n",
       "      <td>2</td>\n",
       "      <td>Not worth for what you pay \\n  You can buy the...</td>\n",
       "      <td>441</td>\n",
       "    </tr>\n",
       "    <tr>\n",
       "      <th>2</th>\n",
       "      <td>2</td>\n",
       "      <td>Good Product \\n  Overall Product... upgraded w...</td>\n",
       "      <td>106</td>\n",
       "    </tr>\n",
       "    <tr>\n",
       "      <th>3</th>\n",
       "      <td>2</td>\n",
       "      <td>Not advised \\n  Theres a scratch already in th...</td>\n",
       "      <td>147</td>\n",
       "    </tr>\n",
       "    <tr>\n",
       "      <th>4</th>\n",
       "      <td>2</td>\n",
       "      <td>The laptop hangs, sometimes gets stuck and it ...</td>\n",
       "      <td>371</td>\n",
       "    </tr>\n",
       "    <tr>\n",
       "      <th>...</th>\n",
       "      <td>...</td>\n",
       "      <td>...</td>\n",
       "      <td>...</td>\n",
       "    </tr>\n",
       "    <tr>\n",
       "      <th>101123</th>\n",
       "      <td>3</td>\n",
       "      <td>Fair Goods:\\nThe picture quality is good.\\nHei...</td>\n",
       "      <td>241</td>\n",
       "    </tr>\n",
       "    <tr>\n",
       "      <th>101124</th>\n",
       "      <td>4</td>\n",
       "      <td>Wonderful Too much of back light bleeding.\\nWo...</td>\n",
       "      <td>59</td>\n",
       "    </tr>\n",
       "    <tr>\n",
       "      <th>101125</th>\n",
       "      <td>5</td>\n",
       "      <td>Design looks very good Design looks very good....</td>\n",
       "      <td>209</td>\n",
       "    </tr>\n",
       "    <tr>\n",
       "      <th>101126</th>\n",
       "      <td>5</td>\n",
       "      <td>Brilliant I love product. Very nice working.</td>\n",
       "      <td>44</td>\n",
       "    </tr>\n",
       "    <tr>\n",
       "      <th>101127</th>\n",
       "      <td>5</td>\n",
       "      <td>Simply awesome Very good product</td>\n",
       "      <td>32</td>\n",
       "    </tr>\n",
       "  </tbody>\n",
       "</table>\n",
       "<p>101128 rows × 3 columns</p>\n",
       "</div>"
      ],
      "text/plain": [
       "        Ratings                                             Review  \\\n",
       "0             2  Not suitable for work \\n  It took me one month...   \n",
       "1             2  Not worth for what you pay \\n  You can buy the...   \n",
       "2             2  Good Product \\n  Overall Product... upgraded w...   \n",
       "3             2  Not advised \\n  Theres a scratch already in th...   \n",
       "4             2  The laptop hangs, sometimes gets stuck and it ...   \n",
       "...         ...                                                ...   \n",
       "101123        3  Fair Goods:\\nThe picture quality is good.\\nHei...   \n",
       "101124        4  Wonderful Too much of back light bleeding.\\nWo...   \n",
       "101125        5  Design looks very good Design looks very good....   \n",
       "101126        5       Brilliant I love product. Very nice working.   \n",
       "101127        5                   Simply awesome Very good product   \n",
       "\n",
       "        original_length  \n",
       "0                   410  \n",
       "1                   441  \n",
       "2                   106  \n",
       "3                   147  \n",
       "4                   371  \n",
       "...                 ...  \n",
       "101123              241  \n",
       "101124               59  \n",
       "101125              209  \n",
       "101126               44  \n",
       "101127               32  \n",
       "\n",
       "[101128 rows x 3 columns]"
      ]
     },
     "execution_count": 22,
     "metadata": {},
     "output_type": "execute_result"
    }
   ],
   "source": [
    "# Creating new column for length of Reviews\n",
    "df['original_length']=df.Review.str.len()\n",
    "df"
   ]
  },
  {
   "cell_type": "markdown",
   "metadata": {},
   "source": [
    "I have created new column <font color=red>\"original_length\"</font> which contains the length of the Review text.\n",
    "\n",
    ">The string library contains punctuation characters. This is imported and all numbers are appended to this string. From the value count functions we have seen that our Review feature contains strings such as won't, didn't, etc which contain apostrophe character('). To prevent these words from being converted to wont/didnt, the character ' represented as ' in escape sequence notation is replaced by empty character in the punctuation string."
   ]
  },
  {
   "cell_type": "code",
   "execution_count": 23,
   "metadata": {},
   "outputs": [],
   "source": [
    "# Defining a function to replace some of the contracted words to their full form and removing urls and some unwanted text \n",
    "def decontracted(text):\n",
    "    text = re.sub(r\"won't\", \"will not\", text)\n",
    "    text = re.sub(r\"don’t\", \"do not\", text)\n",
    "    text = re.sub(r\"can't\", \"can not\", text)\n",
    "    text = re.sub(r\"im \", \"i am\", text)\n",
    "    text = re.sub(r\"yo \", \"you \",text)\n",
    "    text = re.sub(r\"doesn’t\", \"does not\",text)\n",
    "    text = re.sub(r\"n\\'t\", \" not\", text)\n",
    "    text = re.sub(r\"\\'re\", \" are\", text)\n",
    "    text = re.sub(r\"\\'s\", \" is\", text)\n",
    "    text = re.sub(r\"\\'d\", \" would\", text)\n",
    "    text = re.sub(r\"\\'ll\", \" will\", text)\n",
    "    text = re.sub(r\"\\'t\", \" not\", text)\n",
    "    text = re.sub(r\"\\'ve\", \" have\", text)\n",
    "    text = re.sub(r\"\\'m\", \" am\", text)\n",
    "    text = re.sub(r\"<br>\", \" \", text)\n",
    "    text = re.sub(r'http\\S+', '', text) # Removing urls\n",
    "    return text"
   ]
  },
  {
   "cell_type": "code",
   "execution_count": 24,
   "metadata": {},
   "outputs": [],
   "source": [
    "# Removing punctuations\n",
    "df['Review'] = df['Review'].str.replace(r'[^\\w\\d\\s]', ' ')"
   ]
  },
  {
   "cell_type": "markdown",
   "metadata": {},
   "source": [
    "Converting all our text into the lower case is a simple and most effective approach. If we are not applying lower case conversion on words like NLP, nlp, Nlp, we are treating all these words as different words/tokens. It is better to perform lower case the text as the first step in this text preprocessing. Because if we are trying to remove stop words all words need to be in lower case."
   ]
  },
  {
   "cell_type": "code",
   "execution_count": 25,
   "metadata": {},
   "outputs": [],
   "source": [
    "# Convert all comment texts to lower case in dataset\n",
    "df['Review'] = df['Review'].apply(lambda x : x.lower())\n",
    "\n",
    "df['Review'] = df['Review'].apply(lambda x : decontracted(x))"
   ]
  },
  {
   "cell_type": "code",
   "execution_count": 26,
   "metadata": {},
   "outputs": [],
   "source": [
    "# Replacing '\\n' in Review\n",
    "df['Review'] = df['Review'].replace('\\n',' ')"
   ]
  },
  {
   "cell_type": "markdown",
   "metadata": {},
   "source": [
    "### Removing Stopwords\n",
    "\n",
    "- <font color=red>Stopwords</font> are common words and irrelevant words from which we can't get any useful information for our model or problem statement.\n",
    "\n",
    "- Few stopwords are \"a\", \"an\", \"the\", etc. Single letter words if existing or created due to any preprocessing step do not convey any useful meaning and hence can be directly removed. Hence letters from b to z, will be added to the list of stop words imported directly."
   ]
  },
  {
   "cell_type": "code",
   "execution_count": 27,
   "metadata": {},
   "outputs": [],
   "source": [
    "# Remove stopwords\n",
    "stop_words = set(stopwords.words('english') + ['u','ü','ur','4','2','im','dont','doin','ure'])\n",
    "\n",
    "df[\"Review\"] = df[\"Review\"].apply(lambda x:' '.join(term for term in x.split() if term not in stop_words))"
   ]
  },
  {
   "cell_type": "markdown",
   "metadata": {},
   "source": [
    "### Stemming and Lemmatization\n",
    "\n",
    "- <font color=blue>Stemming</font> is the process of converting inflected/derived words to their word stem or the root form. Basically, a large number of similar origin words are converted to the same word.E.g. words like \"stems\", \"stemmer\", \"stemming\", \"stemmed\" as based on \"stem\". This helps in achieving the training process with a better accuracy.\n",
    "- <font color=blue>Lemmatizing</font> is the process of grouping together the inflected forms of a word so they can be analysed as a single item. This is quite similar to stemming in its working but differs since it depends on correctly identifying the intended part of speech and meaning of a word in a sentence, as well as within the larger context surrounding that sentence, such as neighboring sentences or even an entire document."
   ]
  },
  {
   "cell_type": "code",
   "execution_count": 28,
   "metadata": {},
   "outputs": [],
   "source": [
    "# Defining function to convert nltk tag to wordnet tags\n",
    "def nltk_tag_to_wordnet_tag(nltk_tag):\n",
    "    if nltk_tag.startswith('J'):\n",
    "        return wordnet.ADJ\n",
    "    elif nltk_tag.startswith('V'):\n",
    "        return wordnet.VERB\n",
    "    elif nltk_tag.startswith('N'):\n",
    "        return wordnet.NOUN\n",
    "    elif nltk_tag.startswith('R'):\n",
    "        return wordnet.ADV\n",
    "    else:\n",
    "        return None"
   ]
  },
  {
   "cell_type": "code",
   "execution_count": 29,
   "metadata": {},
   "outputs": [],
   "source": [
    "lemmatizer = nltk.stem.WordNetLemmatizer()"
   ]
  },
  {
   "cell_type": "code",
   "execution_count": 30,
   "metadata": {},
   "outputs": [],
   "source": [
    "#defining function to lemmatize our text\n",
    "def lemmatize_sentence(sentence):\n",
    "    #tokenize the sentence & find the pos tag\n",
    "    nltk_tagged = nltk.pos_tag(nltk.word_tokenize(sentence))\n",
    "    #tuple of (token, wordnet_tag)\n",
    "    wordnet_tagged = map(lambda x : (x[0], nltk_tag_to_wordnet_tag(x[1])), nltk_tagged)\n",
    "    lemmatize_sentence = []\n",
    "    for word, tag in wordnet_tagged:\n",
    "        if tag is None:\n",
    "            lemmatize_sentence.append(word)\n",
    "        else:\n",
    "            lemmatize_sentence.append(lemmatizer.lemmatize(word,tag))\n",
    "    return \" \".join(lemmatize_sentence)"
   ]
  },
  {
   "cell_type": "code",
   "execution_count": 31,
   "metadata": {},
   "outputs": [],
   "source": [
    "df['Review'] = df['Review'].apply(lambda x : lemmatize_sentence(x))"
   ]
  },
  {
   "cell_type": "markdown",
   "metadata": {},
   "source": [
    "## Text Normalization-Standardization\n",
    "Let's remove all the noise data which is present in the text"
   ]
  },
  {
   "cell_type": "code",
   "execution_count": 32,
   "metadata": {},
   "outputs": [],
   "source": [
    "# Removing noise data from the text\n",
    "def noise_words(text):\n",
    "    # Remove html markup\n",
    "    text = re.sub(\"(<.*?>)\", \"\", text)\n",
    "    # Remove non-ASCII and digits\n",
    "    text = re.sub(\"(\\\\W)\", \" \", text)\n",
    "    text = re.sub(\"(\\\\d)\", \"\", text)\n",
    "    # Remove white space\n",
    "    text = text.strip()\n",
    "    return text"
   ]
  },
  {
   "cell_type": "code",
   "execution_count": 33,
   "metadata": {},
   "outputs": [],
   "source": [
    "df['Review'] = df['Review'].apply(lambda x : noise_words(x))"
   ]
  },
  {
   "cell_type": "markdown",
   "metadata": {},
   "source": [
    "I have defined a function noise_words for removing the noise from the text. It will remove any html markups, digits,urls and white spaces from the text. Let's have a look at first two rows of the text from review column to understand it."
   ]
  },
  {
   "cell_type": "code",
   "execution_count": 34,
   "metadata": {},
   "outputs": [
    {
     "data": {
      "text/plain": [
       "'suitable work take one month get laptop work requirement laptop come student n home m office outlook apps need business buy expensive secondly many lenovo shop help configure laptop everyone around service warranty laptops huge draw back wish choosen dell instead'"
      ]
     },
     "execution_count": 34,
     "metadata": {},
     "output_type": "execute_result"
    }
   ],
   "source": [
    "df['Review'][0]"
   ]
  },
  {
   "cell_type": "code",
   "execution_count": 35,
   "metadata": {},
   "outputs": [
    {
     "data": {
      "text/plain": [
       "'worth pay buy good price directly lenovo site mention limited time deal later realise price cheap lenovo site tatacliq br lenovo  model specification much cheap br mp camera video quality poor expect thing amazon mention limited time deal price still comparatively high'"
      ]
     },
     "execution_count": 35,
     "metadata": {},
     "output_type": "execute_result"
    }
   ],
   "source": [
    "df['Review'][1]"
   ]
  },
  {
   "cell_type": "markdown",
   "metadata": {},
   "source": [
    "As we can observe all the text has been converted to lower case and removed irrelevant words, punctuations, stop words etc."
   ]
  },
  {
   "cell_type": "markdown",
   "metadata": {},
   "source": [
    "### Count of words in the text\n",
    "Now, I am creating a column which contains count of words in the text."
   ]
  },
  {
   "cell_type": "code",
   "execution_count": 36,
   "metadata": {},
   "outputs": [
    {
     "data": {
      "text/html": [
       "<div>\n",
       "<style scoped>\n",
       "    .dataframe tbody tr th:only-of-type {\n",
       "        vertical-align: middle;\n",
       "    }\n",
       "\n",
       "    .dataframe tbody tr th {\n",
       "        vertical-align: top;\n",
       "    }\n",
       "\n",
       "    .dataframe thead th {\n",
       "        text-align: right;\n",
       "    }\n",
       "</style>\n",
       "<table border=\"1\" class=\"dataframe\">\n",
       "  <thead>\n",
       "    <tr style=\"text-align: right;\">\n",
       "      <th></th>\n",
       "      <th>Review_word_count</th>\n",
       "      <th>Review</th>\n",
       "    </tr>\n",
       "  </thead>\n",
       "  <tbody>\n",
       "    <tr>\n",
       "      <th>0</th>\n",
       "      <td>41</td>\n",
       "      <td>suitable work take one month get laptop work r...</td>\n",
       "    </tr>\n",
       "    <tr>\n",
       "      <th>1</th>\n",
       "      <td>43</td>\n",
       "      <td>worth pay buy good price directly lenovo site ...</td>\n",
       "    </tr>\n",
       "    <tr>\n",
       "      <th>2</th>\n",
       "      <td>12</td>\n",
       "      <td>good product overall product upgrade window  f...</td>\n",
       "    </tr>\n",
       "    <tr>\n",
       "      <th>3</th>\n",
       "      <td>14</td>\n",
       "      <td>advised there scratch already screen product e...</td>\n",
       "    </tr>\n",
       "    <tr>\n",
       "      <th>4</th>\n",
       "      <td>37</td>\n",
       "      <td>laptop hang sometimes get stuck say respond so...</td>\n",
       "    </tr>\n",
       "  </tbody>\n",
       "</table>\n",
       "</div>"
      ],
      "text/plain": [
       "   Review_word_count                                             Review\n",
       "0                 41  suitable work take one month get laptop work r...\n",
       "1                 43  worth pay buy good price directly lenovo site ...\n",
       "2                 12  good product overall product upgrade window  f...\n",
       "3                 14  advised there scratch already screen product e...\n",
       "4                 37  laptop hang sometimes get stuck say respond so..."
      ]
     },
     "execution_count": 36,
     "metadata": {},
     "output_type": "execute_result"
    }
   ],
   "source": [
    "# Creating column for word counts in the text\n",
    "df['Review_word_count'] = df['Review'].apply(lambda x: len(str(x).split(' ')))\n",
    "df[['Review_word_count','Review']].head()"
   ]
  },
  {
   "cell_type": "code",
   "execution_count": 37,
   "metadata": {},
   "outputs": [
    {
     "data": {
      "text/html": [
       "<div>\n",
       "<style scoped>\n",
       "    .dataframe tbody tr th:only-of-type {\n",
       "        vertical-align: middle;\n",
       "    }\n",
       "\n",
       "    .dataframe tbody tr th {\n",
       "        vertical-align: top;\n",
       "    }\n",
       "\n",
       "    .dataframe thead th {\n",
       "        text-align: right;\n",
       "    }\n",
       "</style>\n",
       "<table border=\"1\" class=\"dataframe\">\n",
       "  <thead>\n",
       "    <tr style=\"text-align: right;\">\n",
       "      <th></th>\n",
       "      <th>Ratings</th>\n",
       "      <th>Review</th>\n",
       "      <th>original_length</th>\n",
       "      <th>Review_word_count</th>\n",
       "      <th>clean_length</th>\n",
       "    </tr>\n",
       "  </thead>\n",
       "  <tbody>\n",
       "    <tr>\n",
       "      <th>0</th>\n",
       "      <td>2</td>\n",
       "      <td>suitable work take one month get laptop work r...</td>\n",
       "      <td>410</td>\n",
       "      <td>41</td>\n",
       "      <td>263</td>\n",
       "    </tr>\n",
       "    <tr>\n",
       "      <th>1</th>\n",
       "      <td>2</td>\n",
       "      <td>worth pay buy good price directly lenovo site ...</td>\n",
       "      <td>441</td>\n",
       "      <td>43</td>\n",
       "      <td>269</td>\n",
       "    </tr>\n",
       "    <tr>\n",
       "      <th>2</th>\n",
       "      <td>2</td>\n",
       "      <td>good product overall product upgrade window  f...</td>\n",
       "      <td>106</td>\n",
       "      <td>12</td>\n",
       "      <td>78</td>\n",
       "    </tr>\n",
       "    <tr>\n",
       "      <th>3</th>\n",
       "      <td>2</td>\n",
       "      <td>advised there scratch already screen product e...</td>\n",
       "      <td>147</td>\n",
       "      <td>14</td>\n",
       "      <td>97</td>\n",
       "    </tr>\n",
       "    <tr>\n",
       "      <th>4</th>\n",
       "      <td>2</td>\n",
       "      <td>laptop hang sometimes get stuck say respond so...</td>\n",
       "      <td>371</td>\n",
       "      <td>37</td>\n",
       "      <td>241</td>\n",
       "    </tr>\n",
       "    <tr>\n",
       "      <th>...</th>\n",
       "      <td>...</td>\n",
       "      <td>...</td>\n",
       "      <td>...</td>\n",
       "      <td>...</td>\n",
       "      <td>...</td>\n",
       "    </tr>\n",
       "    <tr>\n",
       "      <th>101123</th>\n",
       "      <td>3</td>\n",
       "      <td>fair good picture quality good height adjustab...</td>\n",
       "      <td>241</td>\n",
       "      <td>31</td>\n",
       "      <td>195</td>\n",
       "    </tr>\n",
       "    <tr>\n",
       "      <th>101124</th>\n",
       "      <td>4</td>\n",
       "      <td>wonderful much back light bleed worth money</td>\n",
       "      <td>59</td>\n",
       "      <td>7</td>\n",
       "      <td>43</td>\n",
       "    </tr>\n",
       "    <tr>\n",
       "      <th>101125</th>\n",
       "      <td>5</td>\n",
       "      <td>design look good design look good fixed stand ...</td>\n",
       "      <td>209</td>\n",
       "      <td>25</td>\n",
       "      <td>157</td>\n",
       "    </tr>\n",
       "    <tr>\n",
       "      <th>101126</th>\n",
       "      <td>5</td>\n",
       "      <td>brilliant love product nice work</td>\n",
       "      <td>44</td>\n",
       "      <td>5</td>\n",
       "      <td>32</td>\n",
       "    </tr>\n",
       "    <tr>\n",
       "      <th>101127</th>\n",
       "      <td>5</td>\n",
       "      <td>simply awesome good product</td>\n",
       "      <td>32</td>\n",
       "      <td>4</td>\n",
       "      <td>27</td>\n",
       "    </tr>\n",
       "  </tbody>\n",
       "</table>\n",
       "<p>101128 rows × 5 columns</p>\n",
       "</div>"
      ],
      "text/plain": [
       "        Ratings                                             Review  \\\n",
       "0             2  suitable work take one month get laptop work r...   \n",
       "1             2  worth pay buy good price directly lenovo site ...   \n",
       "2             2  good product overall product upgrade window  f...   \n",
       "3             2  advised there scratch already screen product e...   \n",
       "4             2  laptop hang sometimes get stuck say respond so...   \n",
       "...         ...                                                ...   \n",
       "101123        3  fair good picture quality good height adjustab...   \n",
       "101124        4        wonderful much back light bleed worth money   \n",
       "101125        5  design look good design look good fixed stand ...   \n",
       "101126        5                   brilliant love product nice work   \n",
       "101127        5                        simply awesome good product   \n",
       "\n",
       "        original_length  Review_word_count  clean_length  \n",
       "0                   410                 41           263  \n",
       "1                   441                 43           269  \n",
       "2                   106                 12            78  \n",
       "3                   147                 14            97  \n",
       "4                   371                 37           241  \n",
       "...                 ...                ...           ...  \n",
       "101123              241                 31           195  \n",
       "101124               59                  7            43  \n",
       "101125              209                 25           157  \n",
       "101126               44                  5            32  \n",
       "101127               32                  4            27  \n",
       "\n",
       "[101128 rows x 5 columns]"
      ]
     },
     "execution_count": 37,
     "metadata": {},
     "output_type": "execute_result"
    }
   ],
   "source": [
    "# New column (clean_length) after removing punctuations, stopwords in dataset\n",
    "df['clean_length'] =df.Review.str.len()\n",
    "df"
   ]
  },
  {
   "cell_type": "markdown",
   "metadata": {},
   "source": [
    "I have created new column \"clean_length\" in dataset after cleaning the data. We can see that nearly half of the text has been removed from the Review after using required pre-processing."
   ]
  },
  {
   "cell_type": "code",
   "execution_count": 38,
   "metadata": {},
   "outputs": [
    {
     "name": "stdout",
     "output_type": "stream",
     "text": [
      "Original Length: 24870809\n",
      "Clean Length: 16021262\n",
      "Total Words Removed: 8849547\n"
     ]
    }
   ],
   "source": [
    "# Total length removal in data\n",
    "print('Original Length:',df.original_length.sum())\n",
    "print('Clean Length:',df.clean_length.sum())\n",
    "print(\"Total Words Removed:\", (df.original_length.sum()) - (df.clean_length.sum()))"
   ]
  },
  {
   "cell_type": "markdown",
   "metadata": {},
   "source": [
    "Above are the total length of dataset before and after cleaning data. And the total words removed after preprocessing."
   ]
  },
  {
   "cell_type": "code",
   "execution_count": 39,
   "metadata": {},
   "outputs": [
    {
     "data": {
      "text/html": [
       "<div>\n",
       "<style scoped>\n",
       "    .dataframe tbody tr th:only-of-type {\n",
       "        vertical-align: middle;\n",
       "    }\n",
       "\n",
       "    .dataframe tbody tr th {\n",
       "        vertical-align: top;\n",
       "    }\n",
       "\n",
       "    .dataframe thead th {\n",
       "        text-align: right;\n",
       "    }\n",
       "</style>\n",
       "<table border=\"1\" class=\"dataframe\">\n",
       "  <thead>\n",
       "    <tr style=\"text-align: right;\">\n",
       "      <th></th>\n",
       "      <th>Ratings</th>\n",
       "      <th>original_length</th>\n",
       "      <th>Review_word_count</th>\n",
       "      <th>clean_length</th>\n",
       "    </tr>\n",
       "  </thead>\n",
       "  <tbody>\n",
       "    <tr>\n",
       "      <th>count</th>\n",
       "      <td>101128.000000</td>\n",
       "      <td>101128.000000</td>\n",
       "      <td>101128.000000</td>\n",
       "      <td>101128.000000</td>\n",
       "    </tr>\n",
       "    <tr>\n",
       "      <th>mean</th>\n",
       "      <td>3.659837</td>\n",
       "      <td>245.933955</td>\n",
       "      <td>26.405842</td>\n",
       "      <td>158.425579</td>\n",
       "    </tr>\n",
       "    <tr>\n",
       "      <th>std</th>\n",
       "      <td>1.484003</td>\n",
       "      <td>322.273740</td>\n",
       "      <td>36.098618</td>\n",
       "      <td>211.007355</td>\n",
       "    </tr>\n",
       "    <tr>\n",
       "      <th>min</th>\n",
       "      <td>1.000000</td>\n",
       "      <td>6.000000</td>\n",
       "      <td>1.000000</td>\n",
       "      <td>0.000000</td>\n",
       "    </tr>\n",
       "    <tr>\n",
       "      <th>25%</th>\n",
       "      <td>2.000000</td>\n",
       "      <td>42.000000</td>\n",
       "      <td>5.000000</td>\n",
       "      <td>31.000000</td>\n",
       "    </tr>\n",
       "    <tr>\n",
       "      <th>50%</th>\n",
       "      <td>4.000000</td>\n",
       "      <td>160.000000</td>\n",
       "      <td>17.000000</td>\n",
       "      <td>104.000000</td>\n",
       "    </tr>\n",
       "    <tr>\n",
       "      <th>75%</th>\n",
       "      <td>5.000000</td>\n",
       "      <td>343.000000</td>\n",
       "      <td>36.000000</td>\n",
       "      <td>218.000000</td>\n",
       "    </tr>\n",
       "    <tr>\n",
       "      <th>max</th>\n",
       "      <td>5.000000</td>\n",
       "      <td>15699.000000</td>\n",
       "      <td>2470.000000</td>\n",
       "      <td>14463.000000</td>\n",
       "    </tr>\n",
       "  </tbody>\n",
       "</table>\n",
       "</div>"
      ],
      "text/plain": [
       "             Ratings  original_length  Review_word_count   clean_length\n",
       "count  101128.000000    101128.000000      101128.000000  101128.000000\n",
       "mean        3.659837       245.933955          26.405842     158.425579\n",
       "std         1.484003       322.273740          36.098618     211.007355\n",
       "min         1.000000         6.000000           1.000000       0.000000\n",
       "25%         2.000000        42.000000           5.000000      31.000000\n",
       "50%         4.000000       160.000000          17.000000     104.000000\n",
       "75%         5.000000       343.000000          36.000000     218.000000\n",
       "max         5.000000     15699.000000        2470.000000   14463.000000"
      ]
     },
     "execution_count": 39,
     "metadata": {},
     "output_type": "execute_result"
    }
   ],
   "source": [
    "# Statistical summary of dataset\n",
    "df.describe()"
   ]
  },
  {
   "cell_type": "markdown",
   "metadata": {},
   "source": [
    "This gives the statistical information of the dataset. The summary of this dataset looks perfect since there is no negative/ invalid values present. It gives the summary of numerical data.\n",
    "\n",
    "From the above description we can observe the following things\n",
    "- The counts of every column is same which means there are no missing values present in the dataset.\n",
    "- The mean value is greater than the median in all the columns except the target column Ratings. So, the data in these columns are skewed to right and in target it is skewed to left.\n",
    "- There is a huge difference between 75% percentile and max values so, we can say there are some outliers present in the data. Since Review_length Review_word_count and clean_length columns are continuous numerical columns, we need to remove skewness and outliers in these columns except target column. "
   ]
  },
  {
   "cell_type": "code",
   "execution_count": 40,
   "metadata": {},
   "outputs": [
    {
     "data": {
      "image/png": "[encoded data removed]",
      "text/plain": [
       "<Figure size 576x432 with 2 Axes>"
      ]
     },
     "metadata": {
      "needs_background": "light"
     },
     "output_type": "display_data"
    }
   ],
   "source": [
    "# Visualizing the statistical description of numeric datatype columns\n",
    "\n",
    "plt.figure(figsize = (8,6))\n",
    "sns.heatmap(round(df.describe()[0:],2), linewidth = 2, annot= True, fmt = \".2f\", cmap=\"plasma\")\n",
    "plt.title(\"Satistical Description of Numerical Columns\\n\",fontsize=15)\n",
    "\n",
    "plt.show()"
   ]
  },
  {
   "cell_type": "markdown",
   "metadata": {},
   "source": [
    "From the heat map we can observe the statistical summary of the numerical features present in the dataset."
   ]
  },
  {
   "cell_type": "markdown",
   "metadata": {},
   "source": [
    "## Visualizations\n",
    "### Target Variable \"Ratings\""
   ]
  },
  {
   "cell_type": "code",
   "execution_count": 41,
   "metadata": {},
   "outputs": [
    {
     "name": "stdout",
     "output_type": "stream",
     "text": [
      "5    44387\n",
      "4    18513\n",
      "1    15059\n",
      "3    12728\n",
      "2    10441\n",
      "Name: Ratings, dtype: int64\n"
     ]
    },
    {
     "data": {
      "image/png": "[encoded data removed]",
      "text/plain": [
       "<Figure size 1080x360 with 2 Axes>"
      ]
     },
     "metadata": {
      "needs_background": "light"
     },
     "output_type": "display_data"
    }
   ],
   "source": [
    "# Visualizing the target variable\n",
    "print(df['Ratings'].value_counts())\n",
    "f,ax=plt.subplots(1,2,figsize=(15,5))\n",
    "labels = ['5', '4', '1', '3', '2']\n",
    "colors = [\"green\", \"cyan\", \"m\", \"lime\", \"yellow\"]\n",
    "df['Ratings'].value_counts().plot.pie(autopct='%1.1f%%',ax=ax[0],shadow=True,labels=labels,fontsize=10,colors=colors,\n",
    "                                              wedgeprops = {'linewidth':2.3, 'edgecolor':'k'},\n",
    "                                              title = 'Visualizing the count of Ratings')\n",
    "ax = sns.countplot('Ratings', data=df, ax=ax[1],palette=\"bright\",linewidth=2.3, edgecolor=\".2\")\n",
    "plt.show()"
   ]
  },
  {
   "cell_type": "markdown",
   "metadata": {},
   "source": [
    "- Looking at the above pie chart and count plot for our target variable \"Ratings\" we can say that the dataset contains the more review text rated as 5 star compared to other review ratings and very less reviews rated as 2 compared to others. Around 44% of the texts are rated as 5 and only 10% of the texts rated as 2 stars.\n",
    "- So, we can say that there is \"imbalance problem\" which we need to make it balance to build our model."
   ]
  },
  {
   "cell_type": "code",
   "execution_count": 42,
   "metadata": {},
   "outputs": [
    {
     "data": {
      "image/png": "[encoded data removed]",
      "text/plain": [
       "<Figure size 1080x576 with 4 Axes>"
      ]
     },
     "metadata": {},
     "output_type": "display_data"
    }
   ],
   "source": [
    "# Checking how the data has been distriubted in each column using histogram and density plots\n",
    "col = [\"Ratings\",\"original_length\",\"Review_word_count\",\"clean_length\"]\n",
    "plt.figure(figsize=(15,8),facecolor='white')\n",
    "plotnumber=1\n",
    "for column in col:\n",
    "    if plotnumber<=4:\n",
    "        ax=plt.subplot(2,2,plotnumber)\n",
    "        sns.distplot(df[column],color=\"maroon\",hist=True, kde = True,bins = int(180/5),hist_kws = {'edgecolor':'black'},\n",
    "            kde_kws = {'linewidth':4})\n",
    "        plt.xlabel(column,fontsize=12)\n",
    "    plotnumber+=1\n",
    "plt.tight_layout()"
   ]
  },
  {
   "cell_type": "markdown",
   "metadata": {},
   "source": [
    "- From the dist plot we can notice that data in all the columns are skewed to right except the target column. Which means the mean value is greater than the median in these columns.\n",
    "- From the histogram of `Review_word_count` we can clearly observe that most of our text is having the number of words in the range of 0 to 200, and some of the text are too lengthy which are out of range which acts as outliers in our data.\n",
    "- Also, the plot of `clean_length` also quite similar to the histogram of Review_word_count. \n",
    "- Since there is skewness in the data we need to remove it before building the machine learning models."
   ]
  },
  {
   "cell_type": "markdown",
   "metadata": {},
   "source": [
    "## Identifying Outiers"
   ]
  },
  {
   "cell_type": "code",
   "execution_count": 43,
   "metadata": {},
   "outputs": [
    {
     "data": {
      "image/png": "[encoded data removed]",
      "text/plain": [
       "<Figure size 576x432 with 4 Axes>"
      ]
     },
     "metadata": {},
     "output_type": "display_data"
    }
   ],
   "source": [
    "# Checking how the data has been distriubted in each column using histogram and density plots\n",
    "col = [\"Ratings\",\"original_length\",\"Review_word_count\",\"clean_length\"]\n",
    "plt.figure(figsize=(8,6),facecolor='white')\n",
    "plotnumber=1\n",
    "for column in col:\n",
    "    if plotnumber<=4:\n",
    "        ax=plt.subplot(2,2,plotnumber)\n",
    "        sns.boxplot(df[column],color=\"darkorange\")\n",
    "        plt.xlabel(column,fontsize=12)\n",
    "    plotnumber+=1\n",
    "plt.tight_layout()"
   ]
  },
  {
   "cell_type": "markdown",
   "metadata": {},
   "source": [
    "As we can observe all the coluns contains outliers except the target column that is \"Ratings\". Let's remove the outliers using appropriate techniques."
   ]
  },
  {
   "cell_type": "markdown",
   "metadata": {},
   "source": [
    "## Removing outliers\n",
    "### 1. Zscore method"
   ]
  },
  {
   "cell_type": "code",
   "execution_count": 44,
   "metadata": {},
   "outputs": [
    {
     "data": {
      "text/plain": [
       "array([[0.50909161, 0.40428777, 0.49559854],\n",
       "       [0.6052836 , 0.45969183, 0.52403371],\n",
       "       [0.43421052, 0.39907105, 0.38115248],\n",
       "       ...,\n",
       "       [0.11460486, 0.03894468, 0.0067561 ],\n",
       "       [0.6265945 , 0.59298524, 0.59915544],\n",
       "       [0.66383011, 0.62068727, 0.62285141]])"
      ]
     },
     "execution_count": 44,
     "metadata": {},
     "output_type": "execute_result"
    }
   ],
   "source": [
    "# Features containing outliers\n",
    "features = df[['original_length', 'Review_word_count', 'clean_length']]\n",
    "               \n",
    "# Using zscore to remove outliers               \n",
    "from scipy.stats import zscore\n",
    "\n",
    "z=np.abs(zscore(features))\n",
    "z"
   ]
  },
  {
   "cell_type": "code",
   "execution_count": 45,
   "metadata": {},
   "outputs": [
    {
     "data": {
      "text/html": [
       "<div>\n",
       "<style scoped>\n",
       "    .dataframe tbody tr th:only-of-type {\n",
       "        vertical-align: middle;\n",
       "    }\n",
       "\n",
       "    .dataframe tbody tr th {\n",
       "        vertical-align: top;\n",
       "    }\n",
       "\n",
       "    .dataframe thead th {\n",
       "        text-align: right;\n",
       "    }\n",
       "</style>\n",
       "<table border=\"1\" class=\"dataframe\">\n",
       "  <thead>\n",
       "    <tr style=\"text-align: right;\">\n",
       "      <th></th>\n",
       "      <th>Ratings</th>\n",
       "      <th>Review</th>\n",
       "      <th>original_length</th>\n",
       "      <th>Review_word_count</th>\n",
       "      <th>clean_length</th>\n",
       "    </tr>\n",
       "  </thead>\n",
       "  <tbody>\n",
       "    <tr>\n",
       "      <th>0</th>\n",
       "      <td>2</td>\n",
       "      <td>suitable work take one month get laptop work r...</td>\n",
       "      <td>410</td>\n",
       "      <td>41</td>\n",
       "      <td>263</td>\n",
       "    </tr>\n",
       "    <tr>\n",
       "      <th>1</th>\n",
       "      <td>2</td>\n",
       "      <td>worth pay buy good price directly lenovo site ...</td>\n",
       "      <td>441</td>\n",
       "      <td>43</td>\n",
       "      <td>269</td>\n",
       "    </tr>\n",
       "    <tr>\n",
       "      <th>2</th>\n",
       "      <td>2</td>\n",
       "      <td>good product overall product upgrade window  f...</td>\n",
       "      <td>106</td>\n",
       "      <td>12</td>\n",
       "      <td>78</td>\n",
       "    </tr>\n",
       "    <tr>\n",
       "      <th>3</th>\n",
       "      <td>2</td>\n",
       "      <td>advised there scratch already screen product e...</td>\n",
       "      <td>147</td>\n",
       "      <td>14</td>\n",
       "      <td>97</td>\n",
       "    </tr>\n",
       "    <tr>\n",
       "      <th>4</th>\n",
       "      <td>2</td>\n",
       "      <td>laptop hang sometimes get stuck say respond so...</td>\n",
       "      <td>371</td>\n",
       "      <td>37</td>\n",
       "      <td>241</td>\n",
       "    </tr>\n",
       "    <tr>\n",
       "      <th>...</th>\n",
       "      <td>...</td>\n",
       "      <td>...</td>\n",
       "      <td>...</td>\n",
       "      <td>...</td>\n",
       "      <td>...</td>\n",
       "    </tr>\n",
       "    <tr>\n",
       "      <th>101123</th>\n",
       "      <td>3</td>\n",
       "      <td>fair good picture quality good height adjustab...</td>\n",
       "      <td>241</td>\n",
       "      <td>31</td>\n",
       "      <td>195</td>\n",
       "    </tr>\n",
       "    <tr>\n",
       "      <th>101124</th>\n",
       "      <td>4</td>\n",
       "      <td>wonderful much back light bleed worth money</td>\n",
       "      <td>59</td>\n",
       "      <td>7</td>\n",
       "      <td>43</td>\n",
       "    </tr>\n",
       "    <tr>\n",
       "      <th>101125</th>\n",
       "      <td>5</td>\n",
       "      <td>design look good design look good fixed stand ...</td>\n",
       "      <td>209</td>\n",
       "      <td>25</td>\n",
       "      <td>157</td>\n",
       "    </tr>\n",
       "    <tr>\n",
       "      <th>101126</th>\n",
       "      <td>5</td>\n",
       "      <td>brilliant love product nice work</td>\n",
       "      <td>44</td>\n",
       "      <td>5</td>\n",
       "      <td>32</td>\n",
       "    </tr>\n",
       "    <tr>\n",
       "      <th>101127</th>\n",
       "      <td>5</td>\n",
       "      <td>simply awesome good product</td>\n",
       "      <td>32</td>\n",
       "      <td>4</td>\n",
       "      <td>27</td>\n",
       "    </tr>\n",
       "  </tbody>\n",
       "</table>\n",
       "<p>99527 rows × 5 columns</p>\n",
       "</div>"
      ],
      "text/plain": [
       "        Ratings                                             Review  \\\n",
       "0             2  suitable work take one month get laptop work r...   \n",
       "1             2  worth pay buy good price directly lenovo site ...   \n",
       "2             2  good product overall product upgrade window  f...   \n",
       "3             2  advised there scratch already screen product e...   \n",
       "4             2  laptop hang sometimes get stuck say respond so...   \n",
       "...         ...                                                ...   \n",
       "101123        3  fair good picture quality good height adjustab...   \n",
       "101124        4        wonderful much back light bleed worth money   \n",
       "101125        5  design look good design look good fixed stand ...   \n",
       "101126        5                   brilliant love product nice work   \n",
       "101127        5                        simply awesome good product   \n",
       "\n",
       "        original_length  Review_word_count  clean_length  \n",
       "0                   410                 41           263  \n",
       "1                   441                 43           269  \n",
       "2                   106                 12            78  \n",
       "3                   147                 14            97  \n",
       "4                   371                 37           241  \n",
       "...                 ...                ...           ...  \n",
       "101123              241                 31           195  \n",
       "101124               59                  7            43  \n",
       "101125              209                 25           157  \n",
       "101126               44                  5            32  \n",
       "101127               32                  4            27  \n",
       "\n",
       "[99527 rows x 5 columns]"
      ]
     },
     "execution_count": 45,
     "metadata": {},
     "output_type": "execute_result"
    }
   ],
   "source": [
    "# Creating new dataframe by setting z to 3\n",
    "new_df = df[(z<3).all(axis=1)] \n",
    "new_df"
   ]
  },
  {
   "cell_type": "markdown",
   "metadata": {},
   "source": [
    "This is the new dataframe after removing the outliers. Here we have removed the outliers whose Zscore is less than 3."
   ]
  },
  {
   "cell_type": "code",
   "execution_count": 46,
   "metadata": {},
   "outputs": [
    {
     "name": "stdout",
     "output_type": "stream",
     "text": [
      "Shape of dataset before removing outliers: (101128, 5)\n",
      "Shape of dataset after removing outliers: (99527, 5)\n"
     ]
    }
   ],
   "source": [
    "# Checking the shape of dataset before and after removing outliers\n",
    "print(\"Shape of dataset before removing outliers:\", df.shape)\n",
    "print(\"Shape of dataset after removing outliers:\", new_df.shape)"
   ]
  },
  {
   "cell_type": "code",
   "execution_count": 47,
   "metadata": {},
   "outputs": [
    {
     "data": {
      "text/plain": [
       "1.5831421564749624"
      ]
     },
     "execution_count": 47,
     "metadata": {},
     "output_type": "execute_result"
    }
   ],
   "source": [
    "# Checking the the data loss after removing outliers\n",
    "data_loss = (101128-99527)/101128*100\n",
    "data_loss"
   ]
  },
  {
   "cell_type": "markdown",
   "metadata": {},
   "source": [
    "The acceptable range of data loss is 10%. By using Zscore I am losing around 1.58% of data which is acceptable. Let's try to remove outliers using IQR method."
   ]
  },
  {
   "cell_type": "markdown",
   "metadata": {},
   "source": [
    "### ii) IQR (Inter Quartile Range) method"
   ]
  },
  {
   "cell_type": "code",
   "execution_count": 48,
   "metadata": {},
   "outputs": [],
   "source": [
    "# 1st quantile\n",
    "Q1=features.quantile(0.25)\n",
    "\n",
    "# 3rd quantile\n",
    "Q3=features.quantile(0.75)\n",
    "\n",
    "# IQR\n",
    "IQR=Q3 - Q1\n",
    "\n",
    "df1=df[~((df < (Q1 - 1.5 * IQR)) |(df > (Q3 + 1.5 * IQR))).any(axis=1)]"
   ]
  },
  {
   "cell_type": "code",
   "execution_count": 49,
   "metadata": {},
   "outputs": [
    {
     "name": "stdout",
     "output_type": "stream",
     "text": [
      "Shape of data after using IQR method: (96215, 5)\n"
     ]
    }
   ],
   "source": [
    "print(\"Shape of data after using IQR method:\", df1.shape)"
   ]
  },
  {
   "cell_type": "code",
   "execution_count": 50,
   "metadata": {},
   "outputs": [
    {
     "data": {
      "text/plain": [
       "4.858199509532474"
      ]
     },
     "execution_count": 50,
     "metadata": {},
     "output_type": "execute_result"
    }
   ],
   "source": [
    "# Checking the the data loss after removing outliers\n",
    "data_loss = (101128-96215)/101128*100\n",
    "data_loss"
   ]
  },
  {
   "cell_type": "markdown",
   "metadata": {},
   "source": [
    "By using IQR method, I am losing around 5% of data which is more compared to Zscore methods. So, considering `Zscore method` as the data loss is very less using this method. "
   ]
  },
  {
   "cell_type": "markdown",
   "metadata": {},
   "source": [
    "## Checking for skewness in dataset"
   ]
  },
  {
   "cell_type": "code",
   "execution_count": 51,
   "metadata": {},
   "outputs": [
    {
     "data": {
      "text/plain": [
       "Ratings             -0.685359\n",
       "original_length      1.428978\n",
       "Review_word_count    1.519603\n",
       "clean_length         1.437501\n",
       "dtype: float64"
      ]
     },
     "execution_count": 51,
     "metadata": {},
     "output_type": "execute_result"
    }
   ],
   "source": [
    "# Checking the skewness\n",
    "new_df.skew()"
   ]
  },
  {
   "cell_type": "markdown",
   "metadata": {},
   "source": [
    "Here we can observe the skewness present in all the columns. But Ratings column is our target and it has categorical data so no need to remove skewness in this column. Let's remove skewness in the remaining columns using `yeo-johnson method`. "
   ]
  },
  {
   "cell_type": "markdown",
   "metadata": {},
   "source": [
    "## Removing skewness using yeo-johnson method"
   ]
  },
  {
   "cell_type": "code",
   "execution_count": 52,
   "metadata": {},
   "outputs": [
    {
     "data": {
      "text/plain": [
       "\"\\nparameters:\\nmethod = 'box-cox' or 'yeo-johnson'\\n\""
      ]
     },
     "execution_count": 52,
     "metadata": {},
     "output_type": "execute_result"
    }
   ],
   "source": [
    "# Removing skewness using yeo-johnson  method to get better prediction\n",
    "features= ['original_length', 'Review_word_count', 'clean_length']\n",
    "\n",
    "from sklearn.preprocessing import PowerTransformer\n",
    "scaler = PowerTransformer(method='yeo-johnson')\n",
    "'''\n",
    "parameters:\n",
    "method = 'box-cox' or 'yeo-johnson'\n",
    "'''"
   ]
  },
  {
   "cell_type": "code",
   "execution_count": 53,
   "metadata": {},
   "outputs": [
    {
     "data": {
      "text/html": [
       "<div>\n",
       "<style scoped>\n",
       "    .dataframe tbody tr th:only-of-type {\n",
       "        vertical-align: middle;\n",
       "    }\n",
       "\n",
       "    .dataframe tbody tr th {\n",
       "        vertical-align: top;\n",
       "    }\n",
       "\n",
       "    .dataframe thead th {\n",
       "        text-align: right;\n",
       "    }\n",
       "</style>\n",
       "<table border=\"1\" class=\"dataframe\">\n",
       "  <thead>\n",
       "    <tr style=\"text-align: right;\">\n",
       "      <th></th>\n",
       "      <th>original_length</th>\n",
       "      <th>Review_word_count</th>\n",
       "      <th>clean_length</th>\n",
       "    </tr>\n",
       "  </thead>\n",
       "  <tbody>\n",
       "    <tr>\n",
       "      <th>0</th>\n",
       "      <td>1.013471</td>\n",
       "      <td>0.973309</td>\n",
       "      <td>1.031668</td>\n",
       "    </tr>\n",
       "    <tr>\n",
       "      <th>1</th>\n",
       "      <td>1.087214</td>\n",
       "      <td>1.021282</td>\n",
       "      <td>1.055145</td>\n",
       "    </tr>\n",
       "    <tr>\n",
       "      <th>2</th>\n",
       "      <td>-0.196716</td>\n",
       "      <td>-0.181916</td>\n",
       "      <td>-0.130149</td>\n",
       "    </tr>\n",
       "    <tr>\n",
       "      <th>3</th>\n",
       "      <td>0.069805</td>\n",
       "      <td>-0.046377</td>\n",
       "      <td>0.063820</td>\n",
       "    </tr>\n",
       "    <tr>\n",
       "      <th>4</th>\n",
       "      <td>0.913858</td>\n",
       "      <td>0.870671</td>\n",
       "      <td>0.941435</td>\n",
       "    </tr>\n",
       "    <tr>\n",
       "      <th>...</th>\n",
       "      <td>...</td>\n",
       "      <td>...</td>\n",
       "      <td>...</td>\n",
       "    </tr>\n",
       "    <tr>\n",
       "      <th>101123</th>\n",
       "      <td>0.503381</td>\n",
       "      <td>0.696236</td>\n",
       "      <td>0.727130</td>\n",
       "    </tr>\n",
       "    <tr>\n",
       "      <th>101124</th>\n",
       "      <td>-0.636502</td>\n",
       "      <td>-0.630989</td>\n",
       "      <td>-0.629416</td>\n",
       "    </tr>\n",
       "    <tr>\n",
       "      <th>101125</th>\n",
       "      <td>0.374524</td>\n",
       "      <td>0.488476</td>\n",
       "      <td>0.514234</td>\n",
       "    </tr>\n",
       "    <tr>\n",
       "      <th>101126</th>\n",
       "      <td>-0.839390</td>\n",
       "      <td>-0.889406</td>\n",
       "      <td>-0.860810</td>\n",
       "    </tr>\n",
       "    <tr>\n",
       "      <th>101127</th>\n",
       "      <td>-1.047128</td>\n",
       "      <td>-1.050293</td>\n",
       "      <td>-0.989009</td>\n",
       "    </tr>\n",
       "  </tbody>\n",
       "</table>\n",
       "<p>99527 rows × 3 columns</p>\n",
       "</div>"
      ],
      "text/plain": [
       "        original_length  Review_word_count  clean_length\n",
       "0              1.013471           0.973309      1.031668\n",
       "1              1.087214           1.021282      1.055145\n",
       "2             -0.196716          -0.181916     -0.130149\n",
       "3              0.069805          -0.046377      0.063820\n",
       "4              0.913858           0.870671      0.941435\n",
       "...                 ...                ...           ...\n",
       "101123         0.503381           0.696236      0.727130\n",
       "101124        -0.636502          -0.630989     -0.629416\n",
       "101125         0.374524           0.488476      0.514234\n",
       "101126        -0.839390          -0.889406     -0.860810\n",
       "101127        -1.047128          -1.050293     -0.989009\n",
       "\n",
       "[99527 rows x 3 columns]"
      ]
     },
     "execution_count": 53,
     "metadata": {},
     "output_type": "execute_result"
    }
   ],
   "source": [
    "new_df[features] = scaler.fit_transform(new_df[features].values)\n",
    "new_df[features]"
   ]
  },
  {
   "cell_type": "code",
   "execution_count": 54,
   "metadata": {},
   "outputs": [
    {
     "data": {
      "text/plain": [
       "original_length     -0.083222\n",
       "Review_word_count   -0.030383\n",
       "clean_length        -0.056533\n",
       "dtype: float64"
      ]
     },
     "execution_count": 54,
     "metadata": {},
     "output_type": "execute_result"
    }
   ],
   "source": [
    "# Checking skewness after using yeo-johnson method\n",
    "new_df[features].skew()"
   ]
  },
  {
   "cell_type": "markdown",
   "metadata": {},
   "source": [
    "We can notice there is no skewness in the data after using `yeo-johnson method`. Let's visualize the distribution of data after removing outliers and skewness."
   ]
  },
  {
   "cell_type": "code",
   "execution_count": 55,
   "metadata": {},
   "outputs": [
    {
     "data": {
      "image/png": "[encoded data removed]",
      "text/plain": [
       "<Figure size 1080x288 with 3 Axes>"
      ]
     },
     "metadata": {},
     "output_type": "display_data"
    }
   ],
   "source": [
    "# Checking how the data has been distriubted in each column \n",
    "col = [\"original_length\",\"Review_word_count\",\"clean_length\"]\n",
    "plt.figure(figsize=(15,4),facecolor='white')\n",
    "plotnumber=1\n",
    "for column in col:\n",
    "    if plotnumber<=3:\n",
    "        ax=plt.subplot(1,3,plotnumber)\n",
    "        sns.distplot(new_df[column],color=\"maroon\",hist=True, kde = True,bins = int(180/5),hist_kws = {'edgecolor':'black'},\n",
    "            kde_kws = {'linewidth':3})\n",
    "        plt.xlabel(column,fontsize=12)\n",
    "    plotnumber+=1\n",
    "plt.tight_layout()"
   ]
  },
  {
   "cell_type": "markdown",
   "metadata": {},
   "source": [
    "The data looks almost normal after removing the skewness compared to the previous data."
   ]
  },
  {
   "cell_type": "markdown",
   "metadata": {},
   "source": [
    "## Checking for correlation in  dataset"
   ]
  },
  {
   "cell_type": "code",
   "execution_count": 61,
   "metadata": {},
   "outputs": [
    {
     "data": {
      "text/html": [
       "<div>\n",
       "<style scoped>\n",
       "    .dataframe tbody tr th:only-of-type {\n",
       "        vertical-align: middle;\n",
       "    }\n",
       "\n",
       "    .dataframe tbody tr th {\n",
       "        vertical-align: top;\n",
       "    }\n",
       "\n",
       "    .dataframe thead th {\n",
       "        text-align: right;\n",
       "    }\n",
       "</style>\n",
       "<table border=\"1\" class=\"dataframe\">\n",
       "  <thead>\n",
       "    <tr style=\"text-align: right;\">\n",
       "      <th></th>\n",
       "      <th>Ratings</th>\n",
       "      <th>original_length</th>\n",
       "      <th>Review_word_count</th>\n",
       "      <th>clean_length</th>\n",
       "    </tr>\n",
       "  </thead>\n",
       "  <tbody>\n",
       "    <tr>\n",
       "      <th>Ratings</th>\n",
       "      <td>1.000000</td>\n",
       "      <td>-0.291021</td>\n",
       "      <td>-0.267244</td>\n",
       "      <td>-0.257789</td>\n",
       "    </tr>\n",
       "    <tr>\n",
       "      <th>original_length</th>\n",
       "      <td>-0.291021</td>\n",
       "      <td>1.000000</td>\n",
       "      <td>0.991262</td>\n",
       "      <td>0.992320</td>\n",
       "    </tr>\n",
       "    <tr>\n",
       "      <th>Review_word_count</th>\n",
       "      <td>-0.267244</td>\n",
       "      <td>0.991262</td>\n",
       "      <td>1.000000</td>\n",
       "      <td>0.994275</td>\n",
       "    </tr>\n",
       "    <tr>\n",
       "      <th>clean_length</th>\n",
       "      <td>-0.257789</td>\n",
       "      <td>0.992320</td>\n",
       "      <td>0.994275</td>\n",
       "      <td>1.000000</td>\n",
       "    </tr>\n",
       "  </tbody>\n",
       "</table>\n",
       "</div>"
      ],
      "text/plain": [
       "                    Ratings  original_length  Review_word_count  clean_length\n",
       "Ratings            1.000000        -0.291021          -0.267244     -0.257789\n",
       "original_length   -0.291021         1.000000           0.991262      0.992320\n",
       "Review_word_count -0.267244         0.991262           1.000000      0.994275\n",
       "clean_length      -0.257789         0.992320           0.994275      1.000000"
      ]
     },
     "execution_count": 61,
     "metadata": {},
     "output_type": "execute_result"
    }
   ],
   "source": [
    "# Checking the correlation between features and the target\n",
    "cor = new_df.corr()\n",
    "cor"
   ]
  },
  {
   "cell_type": "markdown",
   "metadata": {},
   "source": [
    "This gives the correlation between the denpendent and independent variables. We can visualize this by plotting heat map.\n",
    "\n",
    "## Visualizing the correlation matrix by plotting heat map."
   ]
  },
  {
   "cell_type": "code",
   "execution_count": 62,
   "metadata": {},
   "outputs": [
    {
     "data": {
      "image/png": "[encoded data removed]",
      "text/plain": [
       "<Figure size 576x360 with 2 Axes>"
      ]
     },
     "metadata": {
      "needs_background": "light"
     },
     "output_type": "display_data"
    }
   ],
   "source": [
    "# Visualizing the correlation matrix by plotting heat map.\n",
    "plt.figure(figsize=(8,5))    \n",
    "sns.heatmap(new_df.corr(),linewidths=.1,vmin=-1, vmax=1,fmt='.1g',linecolor=\"black\",annot=True,cmap=\"ocean_r\",\n",
    "            annot_kws={'size':10})\n",
    "plt.yticks(rotation=0);"
   ]
  },
  {
   "cell_type": "markdown",
   "metadata": {},
   "source": [
    "- The heat map gives the correlation between features and label. We can also observe the correlation between one feature to another.\n",
    "- From the map we can notice length of the words are correlated with each other. All the features are negatively correlated with the label \"Ratings\".\n",
    "\n",
    "> I have successfully completed cleaning the data. Let's use TF-IDF vactorizer, it'll help to transform the text data to feature vector which can be used as input in our modelling. It is a common algorithm to transform text into numbers. It measures the originality of a word by comparing the frequency of appearance of a word in a document with the number of documents the words appear in."
   ]
  },
  {
   "cell_type": "markdown",
   "metadata": {},
   "source": [
    "### Separating features and label into X and y"
   ]
  },
  {
   "cell_type": "code",
   "execution_count": 63,
   "metadata": {},
   "outputs": [],
   "source": [
    "# Separating features and labels\n",
    "x = df['Review']\n",
    "y = df['Ratings']"
   ]
  },
  {
   "cell_type": "markdown",
   "metadata": {},
   "source": [
    "### Converting tokens into vectors for moving forward to build machine learning model."
   ]
  },
  {
   "cell_type": "code",
   "execution_count": 64,
   "metadata": {},
   "outputs": [],
   "source": [
    "# Using the n_gram tfidf vectorizer(Word vectors)\n",
    "word_vectorizer = TfidfVectorizer(\n",
    "                                sublinear_tf = True,\n",
    "                                analyzer = 'word',\n",
    "                                token_pattern = r'\\w{1,}',\n",
    "                                stop_words = 'english',\n",
    "                                ngram_range = (1,3),\n",
    "                                strip_accents = 'unicode',\n",
    "                                max_features = 100000)\n",
    "word_vectorizer.fit(x)\n",
    "train_word_features = word_vectorizer.transform(x)"
   ]
  },
  {
   "cell_type": "code",
   "execution_count": 65,
   "metadata": {},
   "outputs": [],
   "source": [
    "# Character vectors\n",
    "char_vectorizer = TfidfVectorizer(\n",
    "                                sublinear_tf = True,\n",
    "                                strip_accents = 'unicode',\n",
    "                                analyzer = 'char',\n",
    "                                stop_words = 'english',\n",
    "                                ngram_range = (2,6),\n",
    "                                max_features = 50000)\n",
    "char_vectorizer.fit(x)\n",
    "train_char_features = char_vectorizer.transform(x)"
   ]
  },
  {
   "cell_type": "code",
   "execution_count": 66,
   "metadata": {},
   "outputs": [],
   "source": [
    "# I will combine both word vectors and character vectors as input for our model\n",
    "X = hstack([train_char_features,train_word_features])"
   ]
  },
  {
   "cell_type": "markdown",
   "metadata": {},
   "source": [
    "I have performed `TfIdf vectorizer` to convert words and characters into vectors to use them as an input to our model. I have converted features into number tokens in the dataset. And separated input and output variables."
   ]
  },
  {
   "cell_type": "markdown",
   "metadata": {},
   "source": [
    "# Machine Learning Model Building and Evaluation Metrics\n",
    "## Finding Best Random State"
   ]
  },
  {
   "cell_type": "code",
   "execution_count": 67,
   "metadata": {},
   "outputs": [
    {
     "name": "stdout",
     "output_type": "stream",
     "text": [
      "The maximum accuracy score 0.7622532054451366 is achieved at 67\n"
     ]
    }
   ],
   "source": [
    "# Determining Best Random State\n",
    "SVC=LinearSVC()\n",
    "max_score=0\n",
    "for r_state in range (42,101):\n",
    "    x_train,x_test,y_train,y_test=train_test_split(X,y,random_state=r_state,test_size=0.30)\n",
    "    SVC.fit(x_train,y_train)\n",
    "    pred=SVC.predict(x_test)\n",
    "    acc_score=accuracy_score(y_test,pred)\n",
    "    if acc_score>max_score:\n",
    "        max_score=acc_score\n",
    "        final_r_state=r_state\n",
    "print(\"The maximum accuracy score\", max_score, \"is achieved at\", final_r_state)"
   ]
  },
  {
   "cell_type": "markdown",
   "metadata": {},
   "source": [
    "Great!!! With the help of random state selection process we have found our random state to be 67 with best accuracy as 76.22%."
   ]
  },
  {
   "cell_type": "markdown",
   "metadata": {},
   "source": [
    "## Splitting train and test data"
   ]
  },
  {
   "cell_type": "code",
   "execution_count": 68,
   "metadata": {},
   "outputs": [],
   "source": [
    "# Splitting training and testing data \n",
    "x_train, x_test, y_train, y_test = train_test_split(X, y, test_size=0.30, random_state=67)"
   ]
  },
  {
   "cell_type": "markdown",
   "metadata": {},
   "source": [
    "I am taking 30% of the complete dataset for training purpose and the remaining 70% be used to train the machine learning models using the random state 67."
   ]
  },
  {
   "cell_type": "code",
   "execution_count": 69,
   "metadata": {},
   "outputs": [
    {
     "name": "stdout",
     "output_type": "stream",
     "text": [
      "(70789, 150000) \t (30339, 150000)\n",
      "(70789,) \t (30339,)\n"
     ]
    }
   ],
   "source": [
    "# Checking the dimension of train and test after splitting\n",
    "print(x_train.shape,'\\t',x_test.shape)        # Shape of x data\n",
    "print(y_train.shape,'\\t',y_test.shape)        # Shape of y data"
   ]
  },
  {
   "cell_type": "markdown",
   "metadata": {},
   "source": [
    "Checked the dimension of both train and test data after splitting them."
   ]
  },
  {
   "cell_type": "markdown",
   "metadata": {},
   "source": [
    "## Balancing data using oversampling technique\n",
    "From the visualization we have seen there is class imbalance issue, let's balance the data using oversampling method."
   ]
  },
  {
   "cell_type": "code",
   "execution_count": 70,
   "metadata": {},
   "outputs": [
    {
     "name": "stdout",
     "output_type": "stream",
     "text": [
      "Count of classes before fit Counter({5: 31014, 4: 12981, 1: 10543, 3: 8899, 2: 7352})\n"
     ]
    }
   ],
   "source": [
    "# Let's check the number of classes before fit\n",
    "from collections import Counter\n",
    "print(\"Count of classes before fit {}\".format(Counter(y_train)))"
   ]
  },
  {
   "cell_type": "markdown",
   "metadata": {},
   "source": [
    "Here we have the maximum count 31014 for rating 5, I am using this count to get the balanced data ensuring all the entries to be having the same count of 31014."
   ]
  },
  {
   "cell_type": "code",
   "execution_count": 71,
   "metadata": {},
   "outputs": [
    {
     "name": "stdout",
     "output_type": "stream",
     "text": [
      "Count of classes before fitCounter({5: 31014, 4: 12981, 1: 10543, 3: 8899, 2: 7352})\n",
      "Count of classes after fit Counter({1: 31014, 5: 31014, 4: 31014, 3: 31014, 2: 31014})\n"
     ]
    }
   ],
   "source": [
    "# Oversample and plot imbalanced dataset with SMOTE\n",
    "from sklearn.datasets import make_classification\n",
    "from imblearn.over_sampling import SMOTE\n",
    "\n",
    "# Transform the dataset\n",
    "os=SMOTE(sampling_strategy = {1: 31014, 2: 31014, 3: 31014, 4: 31014, 5: 31014})\n",
    "x_train_os,y_train_os=os.fit_resample(x_train,y_train)\n",
    "\n",
    "print(\"Count of classes before fit{}\".format(Counter(y_train)))\n",
    "print(\"Count of classes after fit {}\".format(Counter(y_train_os)))"
   ]
  },
  {
   "cell_type": "markdown",
   "metadata": {},
   "source": [
    "<font color=red>\"SMOTE\"</font> is the oversampling mechanism that we are using to ensure that all the categories present in our target label have the same value. I have set the count of all the categories to be 31014 which is the highest count in the target column. After applying oversampling we are once again listing the values of our label column to cross verify the updated information. Here we see that we have successfully resolved the class imbalance problem and now all the categories have same data ensuring that the machine learning model does not get biased towards one category."
   ]
  },
  {
   "cell_type": "code",
   "execution_count": 72,
   "metadata": {},
   "outputs": [
    {
     "data": {
      "text/plain": [
       "5    31014\n",
       "4    31014\n",
       "3    31014\n",
       "2    31014\n",
       "1    31014\n",
       "Name: Ratings, dtype: int64"
      ]
     },
     "execution_count": 72,
     "metadata": {},
     "output_type": "execute_result"
    }
   ],
   "source": [
    "# Let's check the value counts after using SMOTE\n",
    "y_train_os.value_counts()"
   ]
  },
  {
   "cell_type": "code",
   "execution_count": 73,
   "metadata": {},
   "outputs": [
    {
     "data": {
      "image/png": "[encoded data removed]",
      "text/plain": [
       "<Figure size 720x432 with 1 Axes>"
      ]
     },
     "metadata": {
      "needs_background": "light"
     },
     "output_type": "display_data"
    }
   ],
   "source": [
    "# Visualizing the data after oversampling\n",
    "plt.figure(figsize=(10,6))\n",
    "sns.countplot(y_train_os,palette=\"Dark2\")\n",
    "plt.show()"
   ]
  },
  {
   "cell_type": "markdown",
   "metadata": {},
   "source": [
    "As we can observe all the categories in the target variable \"Ratings\" have equal values. The class imbalancing issue has been solved. Now we can build our machine learning models."
   ]
  },
  {
   "cell_type": "code",
   "execution_count": 74,
   "metadata": {},
   "outputs": [],
   "source": [
    "# Creating instances for different Classifiers\n",
    "\n",
    "SVC = LinearSVC()\n",
    "SGD = SGDClassifier()\n",
    "XGB = XGBClassifier(verbosity=0)\n",
    "DTC = DecisionTreeClassifier()\n",
    "RFC = RandomForestClassifier()\n",
    "XT = ExtraTreesClassifier()\n",
    "\n",
    "# Creating a list model where all the models will be appended for further evaluation in loop.\n",
    "models=[]\n",
    "models.append(('LinearSVC',SVC))\n",
    "models.append(('SGDClassifier',SGD))\n",
    "models.append(('XGBClassifier',XGB))\n",
    "models.append(('DecisionTreeClassifier',DTC))\n",
    "models.append(('RandomForestClassifier',RFC))\n",
    "models.append(('XT = ExtraTreesClassifier',XT))"
   ]
  },
  {
   "cell_type": "markdown",
   "metadata": {},
   "source": [
    "I have created `6 different classification algorithms` and are appended in the variable models. Now, let's run a for loop which contains the accuracy of the models along with different evaluation metrics."
   ]
  },
  {
   "cell_type": "code",
   "execution_count": 75,
   "metadata": {
    "scrolled": false
   },
   "outputs": [
    {
     "name": "stdout",
     "output_type": "stream",
     "text": [
      "****************************** LinearSVC ******************************\n",
      "\n",
      "\n",
      "LinearSVC()\n",
      "Accuracy_Score:  75.40789083358054\n",
      "Cross Validation Score:  58.43110698305685\n",
      "Confusion matrix: \n",
      "\n",
      "[[ 3521   524   270   123    78]\n",
      " [  682  1639   488   195    85]\n",
      " [  346   499  2225   553   206]\n",
      " [  135   195   591  3751   860]\n",
      " [  120   107   336  1068 11742]]\n",
      "\n",
      "\n",
      "Classification Report:\n",
      " \n",
      "              precision    recall  f1-score   support\n",
      "\n",
      "           1       0.73      0.78      0.76      4516\n",
      "           2       0.55      0.53      0.54      3089\n",
      "           3       0.57      0.58      0.58      3829\n",
      "           4       0.66      0.68      0.67      5532\n",
      "           5       0.91      0.88      0.89     13373\n",
      "\n",
      "    accuracy                           0.75     30339\n",
      "   macro avg       0.68      0.69      0.69     30339\n",
      "weighted avg       0.76      0.75      0.76     30339\n",
      "\n",
      "****************************** SGDClassifier ******************************\n",
      "\n",
      "\n",
      "SGDClassifier()\n",
      "Accuracy_Score:  72.1942054780975\n",
      "Cross Validation Score:  60.852746706346835\n",
      "Confusion matrix: \n",
      "\n",
      "[[ 3847   340   152   116    61]\n",
      " [ 1133  1261   351   254    90]\n",
      " [  616   465  1650   905   193]\n",
      " [  229   180   369  3897   857]\n",
      " [  201    81   226  1617 11248]]\n",
      "\n",
      "\n",
      "Classification Report:\n",
      " \n",
      "              precision    recall  f1-score   support\n",
      "\n",
      "           1       0.64      0.85      0.73      4516\n",
      "           2       0.54      0.41      0.47      3089\n",
      "           3       0.60      0.43      0.50      3829\n",
      "           4       0.57      0.70      0.63      5532\n",
      "           5       0.90      0.84      0.87     13373\n",
      "\n",
      "    accuracy                           0.72     30339\n",
      "   macro avg       0.65      0.65      0.64     30339\n",
      "weighted avg       0.73      0.72      0.72     30339\n",
      "\n",
      "****************************** XGBClassifier ******************************\n",
      "\n",
      "\n",
      "XGBClassifier(base_score=0.5, booster='gbtree', colsample_bylevel=1,\n",
      "              colsample_bynode=1, colsample_bytree=1, gamma=0, gpu_id=-1,\n",
      "              importance_type='gain', interaction_constraints='',\n",
      "              learning_rate=0.300000012, max_delta_step=0, max_depth=6,\n",
      "              min_child_weight=1, missing=nan, monotone_constraints='()',\n",
      "              n_estimators=100, n_jobs=8, num_parallel_tree=1,\n",
      "              objective='multi:softprob', random_state=0, reg_alpha=0,\n",
      "              reg_lambda=1, scale_pos_weight=None, subsample=1,\n",
      "              tree_method='exact', validate_parameters=1, verbosity=0)\n",
      "Accuracy_Score:  72.86660733709087\n",
      "Cross Validation Score:  59.574230967569555\n",
      "Confusion matrix: \n",
      "\n",
      "[[ 3434   705   211   109    57]\n",
      " [  778  1554   446   230    81]\n",
      " [  349   686  1910   709   175]\n",
      " [  126   281   500  3830   795]\n",
      " [  137   196   277  1384 11379]]\n",
      "\n",
      "\n",
      "Classification Report:\n",
      " \n",
      "              precision    recall  f1-score   support\n",
      "\n",
      "           1       0.71      0.76      0.74      4516\n",
      "           2       0.45      0.50      0.48      3089\n",
      "           3       0.57      0.50      0.53      3829\n",
      "           4       0.61      0.69      0.65      5532\n",
      "           5       0.91      0.85      0.88     13373\n",
      "\n",
      "    accuracy                           0.73     30339\n",
      "   macro avg       0.65      0.66      0.65     30339\n",
      "weighted avg       0.74      0.73      0.73     30339\n",
      "\n",
      "****************************** DecisionTreeClassifier ******************************\n",
      "\n",
      "\n",
      "DecisionTreeClassifier()\n",
      "Accuracy_Score:  69.84079897162069\n",
      "Cross Validation Score:  53.209938718439595\n",
      "Confusion matrix: \n",
      "\n",
      "[[ 2938   663   471   240   204]\n",
      " [  596  1580   429   282   202]\n",
      " [  357   529  2081   529   333]\n",
      " [  238   326   590  3504   874]\n",
      " [  224   295   569  1199 11086]]\n",
      "\n",
      "\n",
      "Classification Report:\n",
      " \n",
      "              precision    recall  f1-score   support\n",
      "\n",
      "           1       0.67      0.65      0.66      4516\n",
      "           2       0.47      0.51      0.49      3089\n",
      "           3       0.50      0.54      0.52      3829\n",
      "           4       0.61      0.63      0.62      5532\n",
      "           5       0.87      0.83      0.85     13373\n",
      "\n",
      "    accuracy                           0.70     30339\n",
      "   macro avg       0.63      0.63      0.63     30339\n",
      "weighted avg       0.71      0.70      0.70     30339\n",
      "\n",
      "****************************** RandomForestClassifier ******************************\n",
      "\n",
      "\n",
      "RandomForestClassifier()\n",
      "Accuracy_Score:  75.54632651043211\n",
      "Cross Validation Score:  60.682654997294485\n",
      "Confusion matrix: \n",
      "\n",
      "[[ 3774   349   193   139    61]\n",
      " [  830  1497   388   276    98]\n",
      " [  421   364  2077   772   195]\n",
      " [  163   130   416  4141   682]\n",
      " [  174    85   243  1440 11431]]\n",
      "\n",
      "\n",
      "Classification Report:\n",
      " \n",
      "              precision    recall  f1-score   support\n",
      "\n",
      "           1       0.70      0.84      0.76      4516\n",
      "           2       0.62      0.48      0.54      3089\n",
      "           3       0.63      0.54      0.58      3829\n",
      "           4       0.61      0.75      0.67      5532\n",
      "           5       0.92      0.85      0.88     13373\n",
      "\n",
      "    accuracy                           0.76     30339\n",
      "   macro avg       0.70      0.69      0.69     30339\n",
      "weighted avg       0.76      0.76      0.76     30339\n",
      "\n",
      "****************************** XT = ExtraTreesClassifier ******************************\n",
      "\n",
      "\n",
      "ExtraTreesClassifier()\n",
      "Accuracy_Score:  75.97811397870727\n",
      "Cross Validation Score:  59.8342334096893\n",
      "Confusion matrix: \n",
      "\n",
      "[[ 3825   294   187   143    67]\n",
      " [  847  1474   389   296    83]\n",
      " [  451   301  2091   811   175]\n",
      " [  175   108   363  4164   722]\n",
      " [  168    60   220  1428 11497]]\n",
      "\n",
      "\n",
      "Classification Report:\n",
      " \n",
      "              precision    recall  f1-score   support\n",
      "\n",
      "           1       0.70      0.85      0.77      4516\n",
      "           2       0.66      0.48      0.55      3089\n",
      "           3       0.64      0.55      0.59      3829\n",
      "           4       0.61      0.75      0.67      5532\n",
      "           5       0.92      0.86      0.89     13373\n",
      "\n",
      "    accuracy                           0.76     30339\n",
      "   macro avg       0.71      0.70      0.69     30339\n",
      "weighted avg       0.77      0.76      0.76     30339\n",
      "\n"
     ]
    }
   ],
   "source": [
    "# Creating empty lists\n",
    "Model = []\n",
    "Acc_score = []\n",
    "cvs = []\n",
    "\n",
    "for name,model in models:\n",
    "    print(\"******************************\",name,\"******************************\")\n",
    "    print(\"\\n\")\n",
    "    Model.append(name)\n",
    "    model.fit(x_train_os,y_train_os)\n",
    "    print(model)\n",
    "    y_pred=model.predict(x_test)\n",
    "# Accuracy Score\n",
    "    acc_score=accuracy_score(y_test,y_pred)*100\n",
    "    print('Accuracy_Score: ',acc_score)\n",
    "    Acc_score.append(acc_score)\n",
    "# Cross Validation Score\n",
    "    cv=cross_val_score(model,X,y,cv=5,scoring='accuracy').mean()*100\n",
    "    print('Cross Validation Score: ',cv)\n",
    "    cvs.append(cv)\n",
    "# Confusion Matrix\n",
    "    print('Confusion matrix: \\n')\n",
    "    cm=confusion_matrix(y_test,y_pred)\n",
    "    print(cm)\n",
    "    print(\"\\n\")\n",
    "# Classification Report\n",
    "    print('Classification Report:\\n ')\n",
    "    print(classification_report(y_test,y_pred))"
   ]
  },
  {
   "cell_type": "markdown",
   "metadata": {},
   "source": [
    "After running the for loop, we can able to observe the accuracy, and evaluation metrics of all the models."
   ]
  },
  {
   "cell_type": "markdown",
   "metadata": {},
   "source": [
    "## Model Selection"
   ]
  },
  {
   "cell_type": "code",
   "execution_count": 77,
   "metadata": {},
   "outputs": [
    {
     "data": {
      "text/html": [
       "<div>\n",
       "<style scoped>\n",
       "    .dataframe tbody tr th:only-of-type {\n",
       "        vertical-align: middle;\n",
       "    }\n",
       "\n",
       "    .dataframe tbody tr th {\n",
       "        vertical-align: top;\n",
       "    }\n",
       "\n",
       "    .dataframe thead th {\n",
       "        text-align: right;\n",
       "    }\n",
       "</style>\n",
       "<table border=\"1\" class=\"dataframe\">\n",
       "  <thead>\n",
       "    <tr style=\"text-align: right;\">\n",
       "      <th></th>\n",
       "      <th>Model</th>\n",
       "      <th>Accuracy Score</th>\n",
       "      <th>Cross Validation Score</th>\n",
       "    </tr>\n",
       "  </thead>\n",
       "  <tbody>\n",
       "    <tr>\n",
       "      <th>0</th>\n",
       "      <td>LinearSVC</td>\n",
       "      <td>75.407891</td>\n",
       "      <td>58.431107</td>\n",
       "    </tr>\n",
       "    <tr>\n",
       "      <th>1</th>\n",
       "      <td>SGDClassifier</td>\n",
       "      <td>72.194205</td>\n",
       "      <td>60.852747</td>\n",
       "    </tr>\n",
       "    <tr>\n",
       "      <th>2</th>\n",
       "      <td>XGBClassifier</td>\n",
       "      <td>72.866607</td>\n",
       "      <td>59.574231</td>\n",
       "    </tr>\n",
       "    <tr>\n",
       "      <th>3</th>\n",
       "      <td>DecisionTreeClassifier</td>\n",
       "      <td>69.840799</td>\n",
       "      <td>53.209939</td>\n",
       "    </tr>\n",
       "    <tr>\n",
       "      <th>4</th>\n",
       "      <td>RandomForestClassifier</td>\n",
       "      <td>75.546327</td>\n",
       "      <td>60.682655</td>\n",
       "    </tr>\n",
       "    <tr>\n",
       "      <th>5</th>\n",
       "      <td>XT = ExtraTreesClassifier</td>\n",
       "      <td>75.978114</td>\n",
       "      <td>59.834233</td>\n",
       "    </tr>\n",
       "  </tbody>\n",
       "</table>\n",
       "</div>"
      ],
      "text/plain": [
       "                       Model  Accuracy Score  Cross Validation Score\n",
       "0                  LinearSVC       75.407891               58.431107\n",
       "1              SGDClassifier       72.194205               60.852747\n",
       "2              XGBClassifier       72.866607               59.574231\n",
       "3     DecisionTreeClassifier       69.840799               53.209939\n",
       "4     RandomForestClassifier       75.546327               60.682655\n",
       "5  XT = ExtraTreesClassifier       75.978114               59.834233"
      ]
     },
     "execution_count": 77,
     "metadata": {},
     "output_type": "execute_result"
    }
   ],
   "source": [
    "# Displaying Scores and metrics:\n",
    "Results=pd.DataFrame({'Model': Model,'Accuracy Score': Acc_score,\n",
    "                      'Cross Validation Score':cvs}) \n",
    "Results"
   ]
  },
  {
   "cell_type": "markdown",
   "metadata": {},
   "source": [
    "**After creating and training different classification algorithms, we can see that the difference between accuracy and cross validation score is less for <font color=red>\"Stochastic Gradient Descent Classifier (SGDClassifier)\"</font>. On this basis I can conclude that <font color=red>\"SGDClassifier\"</font> as the best fitting model. Now, we will try Hyperparameter Tuning to find out the best parameters and using them to improve the scores and metrics values.**"
   ]
  },
  {
   "cell_type": "markdown",
   "metadata": {},
   "source": [
    "## Hyper Parameter Tuning"
   ]
  },
  {
   "cell_type": "code",
   "execution_count": 79,
   "metadata": {},
   "outputs": [],
   "source": [
    "# Let's Use the GridSearchCV to find the best paarameters in SGDClassifier\n",
    "\n",
    "# SGDClassifier\n",
    "parameters = {'loss':['hinge','squared_hinge'],\n",
    "              'penalty':['l2'],\n",
    "              'n_jobs':[-1,None],\n",
    "              'alpha':[0.0001,0.0005]}\n",
    "\n",
    "# Running GridSearchCV for the model Bagging Regressor.\n",
    "GCV=GridSearchCV(SGDClassifier(),parameters,cv=5)"
   ]
  },
  {
   "cell_type": "code",
   "execution_count": 80,
   "metadata": {},
   "outputs": [
    {
     "data": {
      "text/plain": [
       "GridSearchCV(cv=5, estimator=SGDClassifier(),\n",
       "             param_grid={'alpha': [0.0001, 0.0005],\n",
       "                         'loss': ['hinge', 'squared_hinge'],\n",
       "                         'n_jobs': [-1, None], 'penalty': ['l2']})"
      ]
     },
     "execution_count": 80,
     "metadata": {},
     "output_type": "execute_result"
    }
   ],
   "source": [
    "# Training the best model\n",
    "GCV.fit(x_train_os,y_train_os)"
   ]
  },
  {
   "cell_type": "markdown",
   "metadata": {},
   "source": [
    "I Have used 4 SGDClassifier parameters to be saved under the variable \"parameters\" that will be used in GridSearchCV for finding the best output. Assigned a variable to the GridSearchCV function after entering all the necessary inputs. And we used our training data set to make the GridSearchCV aware of all the hyper parameters that needs to be applied on our best model."
   ]
  },
  {
   "cell_type": "code",
   "execution_count": 81,
   "metadata": {},
   "outputs": [
    {
     "data": {
      "text/plain": [
       "{'alpha': 0.0001, 'loss': 'hinge', 'n_jobs': -1, 'penalty': 'l2'}"
      ]
     },
     "execution_count": 81,
     "metadata": {},
     "output_type": "execute_result"
    }
   ],
   "source": [
    "#Getting best parameters\n",
    "GCV.best_params_"
   ]
  },
  {
   "cell_type": "markdown",
   "metadata": {},
   "source": [
    "These are the best parameters of `SGD Classifier`."
   ]
  },
  {
   "cell_type": "markdown",
   "metadata": {},
   "source": [
    "### Creating final model"
   ]
  },
  {
   "cell_type": "code",
   "execution_count": 84,
   "metadata": {},
   "outputs": [
    {
     "name": "stdout",
     "output_type": "stream",
     "text": [
      "Accuracy score: 72.20079765318566\n",
      "Confusion Matrix: \n",
      " [[ 3817   352   158   123    66]\n",
      " [ 1105  1248   361   280    95]\n",
      " [  592   459  1655   927   196]\n",
      " [  210   165   365  3941   851]\n",
      " [  183    79   219  1648 11244]]\n",
      "\n",
      "\n",
      "Classification Report: \n",
      "               precision    recall  f1-score   support\n",
      "\n",
      "           1       0.65      0.85      0.73      4516\n",
      "           2       0.54      0.40      0.46      3089\n",
      "           3       0.60      0.43      0.50      3829\n",
      "           4       0.57      0.71      0.63      5532\n",
      "           5       0.90      0.84      0.87     13373\n",
      "\n",
      "    accuracy                           0.72     30339\n",
      "   macro avg       0.65      0.65      0.64     30339\n",
      "weighted avg       0.73      0.72      0.72     30339\n",
      "\n"
     ]
    }
   ],
   "source": [
    "# Creating final model \n",
    "ratings_model = SGDClassifier(alpha=0.0001, loss='hinge', n_jobs=-1, penalty='l2')\n",
    "ratings_model.fit(x_train_os, y_train_os)\n",
    "pred = ratings_model.predict(x_test)\n",
    "acc_score = accuracy_score(y_test,pred)\n",
    "print(\"Accuracy score:\", acc_score*100)\n",
    "print('Confusion Matrix: \\n',confusion_matrix(y_test,pred))\n",
    "print('\\n')\n",
    "print('Classification Report:','\\n',classification_report(y_test,pred))"
   ]
  },
  {
   "cell_type": "markdown",
   "metadata": {},
   "source": [
    "I have successfully incorporated the hyper parameter tuning using best parameters of `SGDClassifier` and the accuracy of the model has been increased after hyperparameter tuning and received the accuracy score as `72.20%` which is very good."
   ]
  },
  {
   "cell_type": "markdown",
   "metadata": {},
   "source": [
    "### Confusion Matrix"
   ]
  },
  {
   "cell_type": "code",
   "execution_count": 87,
   "metadata": {},
   "outputs": [
    {
     "data": {
      "image/png": "[encoded data removed]",
      "text/plain": [
       "<Figure size 432x360 with 2 Axes>"
      ]
     },
     "metadata": {
      "needs_background": "light"
     },
     "output_type": "display_data"
    }
   ],
   "source": [
    "# Plot confusion matrix heatmap\n",
    "cm = confusion_matrix(y_test,pred)\n",
    "\n",
    "x_axis_labels = [\"1\",\"2\",\"3\",\"4\",\"5\"]\n",
    "y_axis_labels = [\"1\",\"2\",\"3\",\"4\",\"5\"]\n",
    "\n",
    "f , ax = plt.subplots(figsize=(6,5))\n",
    "sns.heatmap(cm, annot = True,linewidths=.2, linecolor=\"black\", fmt = \".0f\", ax=ax, cmap=\"gist_earth\",\n",
    "            xticklabels=x_axis_labels,yticklabels=y_axis_labels)\n",
    "\n",
    "plt.xlabel(\"PREDICTED LABEL\")\n",
    "plt.ylabel(\"TRUE LABEL\")\n",
    "plt.title('Confusion Matrix for Final Model')\n",
    "plt.show()"
   ]
  },
  {
   "cell_type": "markdown",
   "metadata": {},
   "source": [
    "With the help of confusion matrix we can able to see actual and predicted values for the final model. And also we can understand the number of times we got the correct outputs and the number of times my model missed to provide the correct prediction."
   ]
  },
  {
   "cell_type": "markdown",
   "metadata": {},
   "source": [
    "## Saving The Model"
   ]
  },
  {
   "cell_type": "code",
   "execution_count": 90,
   "metadata": {},
   "outputs": [
    {
     "data": {
      "text/plain": [
       "['Reviews_Ratings_Prediction(IP7).pkl']"
      ]
     },
     "execution_count": 90,
     "metadata": {},
     "output_type": "execute_result"
    }
   ],
   "source": [
    "# Saving the model using .pkl\n",
    "import joblib\n",
    "joblib.dump(ratings_model,\"Reviews_Ratings_Prediction(IP7).pkl\")"
   ]
  },
  {
   "cell_type": "markdown",
   "metadata": {},
   "source": [
    "I am using the joblib option to save the final classification model in the form of .pkl."
   ]
  },
  {
   "cell_type": "markdown",
   "metadata": {},
   "source": [
    "## Loading and Predicting the Saved Model"
   ]
  },
  {
   "cell_type": "code",
   "execution_count": 102,
   "metadata": {},
   "outputs": [
    {
     "data": {
      "text/html": [
       "<div>\n",
       "<style scoped>\n",
       "    .dataframe tbody tr th:only-of-type {\n",
       "        vertical-align: middle;\n",
       "    }\n",
       "\n",
       "    .dataframe tbody tr th {\n",
       "        vertical-align: top;\n",
       "    }\n",
       "\n",
       "    .dataframe thead th {\n",
       "        text-align: right;\n",
       "    }\n",
       "</style>\n",
       "<table border=\"1\" class=\"dataframe\">\n",
       "  <thead>\n",
       "    <tr style=\"text-align: right;\">\n",
       "      <th></th>\n",
       "      <th>Predicted</th>\n",
       "    </tr>\n",
       "  </thead>\n",
       "  <tbody>\n",
       "    <tr>\n",
       "      <th>0</th>\n",
       "      <td>5</td>\n",
       "    </tr>\n",
       "    <tr>\n",
       "      <th>1</th>\n",
       "      <td>2</td>\n",
       "    </tr>\n",
       "    <tr>\n",
       "      <th>2</th>\n",
       "      <td>4</td>\n",
       "    </tr>\n",
       "    <tr>\n",
       "      <th>3</th>\n",
       "      <td>1</td>\n",
       "    </tr>\n",
       "    <tr>\n",
       "      <th>4</th>\n",
       "      <td>1</td>\n",
       "    </tr>\n",
       "    <tr>\n",
       "      <th>...</th>\n",
       "      <td>...</td>\n",
       "    </tr>\n",
       "    <tr>\n",
       "      <th>101123</th>\n",
       "      <td>3</td>\n",
       "    </tr>\n",
       "    <tr>\n",
       "      <th>101124</th>\n",
       "      <td>4</td>\n",
       "    </tr>\n",
       "    <tr>\n",
       "      <th>101125</th>\n",
       "      <td>4</td>\n",
       "    </tr>\n",
       "    <tr>\n",
       "      <th>101126</th>\n",
       "      <td>5</td>\n",
       "    </tr>\n",
       "    <tr>\n",
       "      <th>101127</th>\n",
       "      <td>5</td>\n",
       "    </tr>\n",
       "  </tbody>\n",
       "</table>\n",
       "<p>101128 rows × 1 columns</p>\n",
       "</div>"
      ],
      "text/plain": [
       "        Predicted\n",
       "0               5\n",
       "1               2\n",
       "2               4\n",
       "3               1\n",
       "4               1\n",
       "...           ...\n",
       "101123          3\n",
       "101124          4\n",
       "101125          4\n",
       "101126          5\n",
       "101127          5\n",
       "\n",
       "[101128 rows x 1 columns]"
      ]
     },
     "execution_count": 102,
     "metadata": {},
     "output_type": "execute_result"
    }
   ],
   "source": [
    "# loading the final model\n",
    "model = joblib.load('Reviews_Ratings_Prediction(IP7).pkl')\n",
    "\n",
    "# Creating dataframe for predicted results\n",
    "prediction=pd.DataFrame([model.predict(X)[:]],index=[\"Predicted\"])\n",
    "prediction.T"
   ]
  },
  {
   "cell_type": "markdown",
   "metadata": {},
   "source": [
    "I have loaded the saved model to get the predictions for reviews ratings. Using classification model, we have got the predicted values for review ratings. "
   ]
  },
  {
   "cell_type": "markdown",
   "metadata": {},
   "source": [
    "## Saving the Predictions"
   ]
  },
  {
   "cell_type": "code",
   "execution_count": 103,
   "metadata": {},
   "outputs": [],
   "source": [
    "# Saving the predicted values\n",
    "prediction.to_csv('Ratings_Predicted_Values.csv')"
   ]
  },
  {
   "cell_type": "markdown",
   "metadata": {},
   "source": [
    "Finally, saving the predicted values of the review ratings."
   ]
  },
  {
   "cell_type": "markdown",
   "metadata": {},
   "source": [
    "# Conclusion\n",
    "- This case study gives an idea of NLP text processing in machine learning. In this case study, apart from applying the techniques that we have learnt in the EDA module. \n",
    "- From this dataset we were able to understand the idea of Natural Language Processing using machine learning models. This model helps us to understand the ratings of the products. On the basis of product review ratings one can easily buy their liked product without any fear.\n",
    "- First we collected the dataset from the websites www.flipkart.com and www.amazon.com which is a web platform where the people can purchase their products. The data is scraped using Web scraping technique and the framework used is Selenium. We scrapped and fetched the data for different products like laptops, smart watches, phones etc. and saved the collected data in excel format. The dimension of the dataset is 101128 rows and 3 columns including target variable “Ratings”.Then, the scrapped data was saved in a excel file so that we can use further and analyse the data.\n",
    "- Then we loaded the dataset and have done data cleaning, EDA process and text pre-processing techniques like: \n",
    "    - Text case conversion\n",
    "    - Removing Punctuations and other special characters\n",
    "    - Splitting the comments into individual words\n",
    "    - Removing Stop Words\n",
    "    - Stemming and Lemmatization \n",
    "    - Text Standardization-Normalization\n",
    "    \n",
    "- Then we did the model training, building the model and finding out the best model on the basis of different metrices like Accuracy Score, Cross Validation Score, precision, recall, f1score. We have created 6 different models. A Result table is made which is comprises of accuracy,cross validation score of each model. \n",
    "- We got SGDClassifier as the best model among all the models as it was giving least difference of accuracy and cv score. On this basis we performed the Hyperparameter tuning to finding out the best parameter and improving the scores. The accuracy score increased after tuning. So we concluded that SGDClassifier as the best algorithm as it was giving high accuracy.\n",
    "- After that we saved the model in a pickle with a filename in order to use whenever we require. Then we loaded the saved file and predicted the values for test data. Further we saved the predicted values test data into csv file."
   ]
  },
  {
   "cell_type": "code",
   "execution_count": null,
   "metadata": {},
   "outputs": [],
   "source": []
  }
 ],
 "metadata": {
  "kernelspec": {
   "display_name": "Python 3",
   "language": "python",
   "name": "python3"
  },
  "language_info": {
   "codemirror_mode": {
    "name": "ipython",
    "version": 3
   },
   "file_extension": ".py",
   "mimetype": "text/x-python",
   "name": "python",
   "nbconvert_exporter": "python",
   "pygments_lexer": "ipython3",
   "version": "3.8.8"
  }
 },
 "nbformat": 4,
 "nbformat_minor": 4
}
